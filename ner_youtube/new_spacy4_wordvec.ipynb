{
 "cells": [
  {
   "cell_type": "code",
   "execution_count": null,
   "id": "6c47ebce-8063-4c2b-abff-126b704084b6",
   "metadata": {},
   "outputs": [],
   "source": [
    "import spacy\n",
    "finding_sim.py\n",
    "no viors ong\n",
    "import gensim\n",
    "from gensim.models import KeyedVectors\n",
    "from gensim.models import Word2Vec from gensim.scripts.glove2word2vec import glove2word2vec\n",
    "from gensim.test.utils import datapath, get_tmpfile\n",
    "model = KeyedVectors. load_word2vec_format (word_vectors/word2ve_hp_ner_model.txt', binary=False)\n",
    "\"\"\"\n",
    "SOURCE:\n",
    "https://stackoverflow.com/questions/54717449/mapping-word-vector-to-the-most-similar-closest-word-using-spacy\n",
    "\"\"\"\n",
    "def spacy_similarity(your_word):\n",
    "nip = spacy. load (\"en_core_web_1g\")\n",
    "ms = nip. vocab.vectors.most_similar(\n",
    "p.asarray([nip. vocab.vectors[nip.vocab.strings[your_word]]]), n=10)\n",
    "words = [nlp.vocab.strings[w] for w in ms [0][0]]\n",
    "distances = ms [2]\n",
    "print (words)"
   ]
  }
 ],
 "metadata": {
  "kernelspec": {
   "display_name": "spacy1",
   "language": "python",
   "name": "spacy1"
  },
  "language_info": {
   "codemirror_mode": {
    "name": "ipython",
    "version": 3
   },
   "file_extension": ".py",
   "mimetype": "text/x-python",
   "name": "python",
   "nbconvert_exporter": "python",
   "pygments_lexer": "ipython3",
   "version": "3.9.18"
  }
 },
 "nbformat": 4,
 "nbformat_minor": 5
}
