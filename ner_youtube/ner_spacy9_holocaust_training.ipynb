{
 "cells": [
  {
   "cell_type": "markdown",
   "id": "f267f7ac-3211-4e36-a463-504147139bd2",
   "metadata": {},
   "source": [
    "# Basic Functions\n",
    "\n",
    "- Create blank spacy model.\n",
    "- Add a custom pipeline which will use NER to identify cutom labels\n",
    "- The label here is CONCENTRATION_CAMP"
   ]
  },
  {
   "cell_type": "code",
   "execution_count": 3,
   "id": "844aa6f5-29f4-4bc4-b34a-d2dbe29f9d63",
   "metadata": {},
   "outputs": [],
   "source": [
    "# Basic Functions\n",
    "import re\n",
    "from hc_ner import json, load_data, save_data\n",
    "\n",
    "def clean_hc_file(file):\n",
    "    data = []\n",
    "    with open(file, 'r', encoding='utf-8') as f:\n",
    "        lines = f.readlines()\n",
    "        for line in lines:\n",
    "            results = re.findall(r\"[A-Z].*?\\t\", line)\n",
    "            if len(results) > 0:\n",
    "                results = results[0].replace(\"\\t\", \"\")\n",
    "                data.append(results)\n",
    "    return data"
   ]
  },
  {
   "cell_type": "code",
   "execution_count": 4,
   "id": "aa10091f-ce7a-45f6-b3e6-3de453a2dc0c",
   "metadata": {},
   "outputs": [],
   "source": [
    "# Finding and Downloading Data\n",
    "\n",
    "# https://en.wikipedia.org/wiki/List_of_subcamps_of_Auschwitz\n",
    "# https://collections.ushmm.org/search/\n",
    "\n",
    "# Clean camps and ghetto\n",
    "camp_file = './data/hc/camps.txt'\n",
    "camp_data = clean_hc_file(camp_file)\n",
    "save_data('./data/hc/camps.json', camp_data)\n",
    "\n",
    "ghetto_file = './data/hc/ghettos.txt'\n",
    "ghetto_data = clean_hc_file(ghetto_file)\n",
    "save_data('./data/hc/ghettos.json', ghetto_data)\n"
   ]
  },
  {
   "cell_type": "code",
   "execution_count": 7,
   "id": "22f2bddb-4c51-4af8-8b68-3cae1f32ebdb",
   "metadata": {},
   "outputs": [],
   "source": [
    "import spacy\n",
    "\n",
    "nlp = spacy.blank(\"en\")\n",
    "\n",
    "\n",
    "ner = nlp.add_pipe(\"ner\")\n",
    "ner.add_label(\"CONC_CAMP\")\n",
    "\n",
    "nlp.to_disk(\"holocaust.ner\")"
   ]
  },
  {
   "cell_type": "code",
   "execution_count": null,
   "id": "4567ab11-3f2f-44b2-92b3-5bb7d3f8822f",
   "metadata": {},
   "outputs": [],
   "source": []
  }
 ],
 "metadata": {
  "kernelspec": {
   "display_name": "nlp_course",
   "language": "python",
   "name": "python3"
  },
  "language_info": {
   "codemirror_mode": {
    "name": "ipython",
    "version": 3
   },
   "file_extension": ".py",
   "mimetype": "text/x-python",
   "name": "python",
   "nbconvert_exporter": "python",
   "pygments_lexer": "ipython3",
   "version": "3.11.7"
  }
 },
 "nbformat": 4,
 "nbformat_minor": 5
}
