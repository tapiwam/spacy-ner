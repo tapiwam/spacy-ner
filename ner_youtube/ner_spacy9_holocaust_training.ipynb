{
 "cells": [
  {
   "cell_type": "markdown",
   "id": "f267f7ac-3211-4e36-a463-504147139bd2",
   "metadata": {},
   "source": [
    "# Basic Functions\n",
    "\n",
    "- Create blank spacy model.\n",
    "- Add a custom pipeline which will use NER to identify cutom labels\n",
    "- The label here is CONCENTRATION_CAMP"
   ]
  },
  {
   "cell_type": "code",
   "execution_count": 10,
   "id": "844aa6f5-29f4-4bc4-b34a-d2dbe29f9d63",
   "metadata": {},
   "outputs": [],
   "source": [
    "# Basic Functions\n",
    "\n",
    "import json\n",
    "\n",
    "def load_data(file):\n",
    "    with open(file, \"r\", encoding=\"utf-8\") as f:\n",
    "        data = json.load(f)\n",
    "    return (data)\n",
    "\n",
    "def save_data(file, data):\n",
    "    with open(file, \"w\", encoding=\"utf-8\") as f:\n",
    "        json.dump(data, f, indent=4)\n"
   ]
  },
  {
   "cell_type": "code",
   "execution_count": 11,
   "id": "aa10091f-ce7a-45f6-b3e6-3de453a2dc0c",
   "metadata": {},
   "outputs": [],
   "source": [
    "# Finding and Downloading Data\n",
    "\n",
    "# https://en.wikipedia.org/wiki/List_of_subcamps_of_Auschwitz\n",
    "# https://collections.ushmm.org/search/\n",
    "\n"
   ]
  },
  {
   "cell_type": "code",
   "execution_count": 12,
   "id": "a035c4f6-5cf2-4d2c-88cf-2e122b03e7ba",
   "metadata": {},
   "outputs": [
    {
     "name": "stdout",
     "output_type": "stream",
     "text": [
      "['Alderney', 'Amersfoort', 'Auschwitz', 'Banjica', 'Bełżec', 'Bergen-Belsen', 'Bernburg', 'Bogdanovka', 'Bolzano', 'Bor', 'Breendonk', 'Breitenau', 'Buchenwald', 'Chełmno', 'Dachau', 'Drancy', 'Falstad', 'Flossenbürg', 'Fort VII', 'Fossoli', 'Grini', 'Gross-Rosen', 'Hinzert', 'Jägala', 'Janowska', 'Jasenovac', 'Kaiserwald', 'Kaunas', 'Kemna', 'Klooga', 'Le Vernet', 'Majdanek', 'Malchow', 'Maly Trostenets', 'Mechelen', 'Mittelbau-Dora', 'Natzweiler-Struthof', 'Neuengamme', 'Niederhagen', 'Oberer Kuhberg', 'Oranienburg', 'Osthofen', 'Płaszów', 'Ravensbruck', 'Risiera di San Sabba', 'Sachsenhausen', 'Sajmište', 'Salaspils', 'Sobibór', 'Soldau', 'Stutthof', 'Theresienstadt', 'Trawniki', 'Treblinka', 'Vaivara', 'Westerbork']\n"
     ]
    }
   ],
   "source": [
    "# Extracting txt files into json lists\n",
    "\n",
    "import re\n",
    "\n",
    "# Extract camps\n",
    "\n",
    "camps = []\n",
    "with open('./data/hc/camps.txt', 'r', encoding='utf-8') as f:\n",
    "    lines = f.readlines()\n",
    "    for line in lines:\n",
    "        results = re.findall(r\"[A-Z].*?\\t\", line)[0].replace(\"\\t\", \"\")\n",
    "        camps.append(results)\n",
    "        \n",
    "print(camps)\n",
    "\n",
    "# Write to json file\n",
    "save_data('./data/hc/camps.json', camps)"
   ]
  },
  {
   "cell_type": "code",
   "execution_count": null,
   "id": "b9d464dc-4d35-4b77-82b3-e1a64c6eea54",
   "metadata": {},
   "outputs": [],
   "source": []
  },
  {
   "cell_type": "raw",
   "id": "3f49b92f-472c-48a2-966f-aa94b7269f14",
   "metadata": {},
   "source": []
  },
  {
   "cell_type": "code",
   "execution_count": 13,
   "id": "22f2bddb-4c51-4af8-8b68-3cae1f32ebdb",
   "metadata": {},
   "outputs": [
    {
     "name": "stderr",
     "output_type": "stream",
     "text": [
      "[nltk_data] Downloading package omw-1.4 to /home/jovyan/nltk_data...\n",
      "[nltk_data]   Package omw-1.4 is already up-to-date!\n",
      "[nltk_data] Downloading package omw-1.4 to /home/jovyan/nltk_data...\n",
      "[nltk_data]   Package omw-1.4 is already up-to-date!\n"
     ]
    }
   ],
   "source": [
    "import spacy\n",
    "\n",
    "nlp = spacy.blank(\"en\")\n",
    "\n",
    "\n",
    "ner = nlp.add_pipe(\"ner\")\n",
    "\n",
    "\n",
    "\n",
    "\n",
    "\n",
    "\n",
    "nlp.to_disk(\"holocaust.ner\")"
   ]
  },
  {
   "cell_type": "code",
   "execution_count": null,
   "id": "4567ab11-3f2f-44b2-92b3-5bb7d3f8822f",
   "metadata": {},
   "outputs": [],
   "source": []
  }
 ],
 "metadata": {
  "kernelspec": {
   "display_name": "spacy1",
   "language": "python",
   "name": "spacy1"
  },
  "language_info": {
   "codemirror_mode": {
    "name": "ipython",
    "version": 3
   },
   "file_extension": ".py",
   "mimetype": "text/x-python",
   "name": "python",
   "nbconvert_exporter": "python",
   "pygments_lexer": "ipython3",
   "version": "3.9.18"
  }
 },
 "nbformat": 4,
 "nbformat_minor": 5
}
