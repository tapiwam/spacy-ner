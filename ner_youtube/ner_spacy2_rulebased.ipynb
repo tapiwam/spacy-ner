{
 "cells": [
  {
   "cell_type": "code",
   "execution_count": 5,
   "id": "8c114709-5e73-4e8e-971b-e87424e1562b",
   "metadata": {},
   "outputs": [
    {
     "name": "stdout",
     "output_type": "stream",
     "text": [
      "207\n",
      "622\n",
      "6160\n",
      "5119\n"
     ]
    }
   ],
   "source": [
    "import spacy\n",
    "from spacy.lang.en import English\n",
    "from spacy.pipeline import EntityRuler\n",
    "\n",
    "import json\n",
    "\n",
    "characters_file = './data/hp_characters.json'\n",
    "\n",
    "def load_data(file):\n",
    "    with open(file, \"r\", encoding=\"utf-8\") as f:\n",
    "        data = json.load(f)\n",
    "    return (data)\n",
    "\n",
    "def save_data(file, data):\n",
    "    with open(file, \"w\", encoding=\"utf-8\") as f:\n",
    "        json.dump(data, f, indent=4)\n",
    "\n",
    "def generate_better_characters(file):\n",
    "    data = load_data(file)\n",
    "    \n",
    "    print (len(data))\n",
    "    new_characters = []\n",
    "    for item in data:\n",
    "        new_characters.append(item)\n",
    "    for item in data:\n",
    "        item = item.replace(\"The\", \"\").replace(\"the\", \"\").replace(\"and\", \"\").replace(\"And\", \"\")\n",
    "        names = item.split(\" \")\n",
    "        for name in names:\n",
    "            name = name.strip()\n",
    "            new_characters.append(name)\n",
    "        if \"(\" in item:\n",
    "            names = item.split(\"(\")\n",
    "            for name in names:\n",
    "                name = name.replace(\")\", \"\").strip()\n",
    "                new_characters.append(name)\n",
    "        if \",\" in item:\n",
    "            names = item.split(\",\")\n",
    "            for name in names:\n",
    "                name = name.replace(\"and\", \"\").strip()\n",
    "                if \" \" in name:\n",
    "                    new_names = name.split()\n",
    "                    for x in new_names:\n",
    "                        x = x.strip()\n",
    "                        new_characters.append(x)\n",
    "                new_characters.append(name)\n",
    "    print (len(new_characters))\n",
    "\n",
    "\n",
    "    final_characters = []\n",
    "    titles = [\"Dr.\", \"Professor\", \"Mr.\", \"Mrs.\", \"Ms.\", \"Miss\", \"Aunt\", \"Uncle\", \"Mr. and Mrs.\"]\n",
    "    for character in new_characters:\n",
    "        if \"\" != character:\n",
    "            final_characters.append(character)\n",
    "            for title in titles:\n",
    "                titled_char = f\"{title} {character}\"\n",
    "                final_characters.append(titled_char)\n",
    "\n",
    "\n",
    "    print (len(final_characters))\n",
    "    final_characters = list(set(final_characters))\n",
    "    print (len(final_characters))\n",
    "    final_characters.sort()\n",
    "    return (final_characters)\n",
    "\n",
    "characters = generate_better_characters(characters_file)"
   ]
  },
  {
   "cell_type": "code",
   "execution_count": 13,
   "id": "b18f0cb0-2290-4f9b-8f10-c137598dc095",
   "metadata": {},
   "outputs": [],
   "source": [
    "def create_training_data(file, type):\n",
    "    data = generate_better_characters(characters_file)\n",
    "    patterns = []\n",
    "    \n",
    "    for item in data:\n",
    "        pattern = {\n",
    "            \"label\": type,\n",
    "            \"pattern\": item\n",
    "        }\n",
    "        patterns.append(pattern)\n",
    "\n",
    "    print(f\"Sample: {patterns[-5:]}\")\n",
    "    return patterns"
   ]
  },
  {
   "cell_type": "code",
   "execution_count": 21,
   "id": "0ac89c03-c47a-401d-ae37-0c41640db9c4",
   "metadata": {},
   "outputs": [],
   "source": [
    "def generate_rules(patterns):\n",
    "    nlp = English()\n",
    "    ruler = nlp.add_pipe(\"entity_ruler\")\n",
    "    ruler.add_patterns(patterns)\n",
    "    nlp.to_disk(\"hp_ner\")"
   ]
  },
  {
   "cell_type": "code",
   "execution_count": 22,
   "id": "d4abbd9c-1944-4e78-902c-d6933acb5722",
   "metadata": {},
   "outputs": [
    {
     "name": "stdout",
     "output_type": "stream",
     "text": [
      "207\n",
      "622\n",
      "6160\n",
      "5119\n",
      "Sample: [{'label': 'PERSON', 'pattern': 'Zabini'}, {'label': 'PERSON', 'pattern': 'Zacharias'}, {'label': 'PERSON', 'pattern': 'Zacharias Smith'}, {'label': 'PERSON', 'pattern': 'odore'}, {'label': 'PERSON', 'pattern': 'romeda'}]\n"
     ]
    }
   ],
   "source": [
    "patterns = create_training_data(characters_file, \"PERSON\")\n",
    "generate_rules(patterns)"
   ]
  },
  {
   "cell_type": "code",
   "execution_count": 23,
   "id": "7729f4fb-2557-4d5a-9a27-62fe0e7eb907",
   "metadata": {},
   "outputs": [],
   "source": [
    "nlp = spacy.load(\"hp_ner\")"
   ]
  },
  {
   "cell_type": "code",
   "execution_count": 27,
   "id": "6edf8dc4-ff0c-44e2-aeec-69b5161218dc",
   "metadata": {},
   "outputs": [],
   "source": [
    "def test_model(model, text):\n",
    "    doc = nlp(text)\n",
    "    results = []\n",
    "    for ent in doc.ents:\n",
    "        results.append(ent.text)\n",
    "    return (results)"
   ]
  },
  {
   "cell_type": "code",
   "execution_count": 29,
   "id": "46549fbb-5af8-4b9a-a675-5772780122d6",
   "metadata": {},
   "outputs": [],
   "source": [
    "\n",
    "ie_data = {}\n",
    "with open (\"data/hp.txt\", \"r\")as f:\n",
    "    text = f.read()\n",
    "\n",
    "    chapters = text.split(\"CHAPTER\")[1:]\n",
    "    for chapter in chapters:\n",
    "        chapter_num, chapter_title = chapter.split(\"\\n\\n\")[0:2]\n",
    "        chapter_num = chapter_num.strip()\n",
    "        #print(chapter_title)\n",
    "        segments = chapter.split(\"\\n\\n\")[2:]\n",
    "        hits = []\n",
    "        for segment in segments:\n",
    "            segment = segment.strip()\n",
    "            segment = segment.replace(\"\\n\", \" \")\n",
    "            results = test_model(nlp, segment)\n",
    "            # print(results)\n",
    "            for result in results:\n",
    "                hits.append(result)\n",
    "        ie_data[chapter_num] = hits\n",
    "\n",
    "save_data(\"data/hp_data.json\", ie_data)"
   ]
  },
  {
   "cell_type": "code",
   "execution_count": null,
   "id": "4a51e62f-feef-49f6-828f-58003f66bc6f",
   "metadata": {},
   "outputs": [],
   "source": []
  }
 ],
 "metadata": {
  "kernelspec": {
   "display_name": "spacy1",
   "language": "python",
   "name": "spacy1"
  },
  "language_info": {
   "codemirror_mode": {
    "name": "ipython",
    "version": 3
   },
   "file_extension": ".py",
   "mimetype": "text/x-python",
   "name": "python",
   "nbconvert_exporter": "python",
   "pygments_lexer": "ipython3",
   "version": "3.9.18"
  }
 },
 "nbformat": 4,
 "nbformat_minor": 5
}
