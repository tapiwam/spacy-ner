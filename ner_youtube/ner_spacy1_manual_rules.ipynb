{
 "cells": [
  {
   "cell_type": "code",
   "execution_count": 1,
   "id": "17d15cb2-1d26-4ed8-ac49-c206e6cdf0ba",
   "metadata": {},
   "outputs": [],
   "source": [
    "import json"
   ]
  },
  {
   "cell_type": "code",
   "execution_count": 5,
   "id": "214b433a-5317-477a-b99f-885d7b1bb08b",
   "metadata": {},
   "outputs": [],
   "source": [
    "with open('./data/hp.txt', \"r\",encoding=\"utf-8\") as f:\n",
    "    text = f.read().split(\"\\n\\n\")"
   ]
  },
  {
   "cell_type": "code",
   "execution_count": 14,
   "id": "fe24b955-b047-4518-bd25-8595f97f2feb",
   "metadata": {},
   "outputs": [],
   "source": [
    "test = text[3:4]"
   ]
  },
  {
   "cell_type": "code",
   "execution_count": 11,
   "id": "b773bf9b-810a-4cd9-8290-48165c6ea827",
   "metadata": {},
   "outputs": [],
   "source": [
    "with open(\"data/hp_characters.json\", \"r\", encoding=\"utf-8\") as f:\n",
    "    characters = json.load(f)"
   ]
  },
  {
   "cell_type": "code",
   "execution_count": 13,
   "id": "7903cff7-cf8b-47ec-9f92-60b057979e3a",
   "metadata": {},
   "outputs": [
    {
     "data": {
      "text/plain": [
       "['Hannah Abbott', 'Ludo Bagman', 'Bathilda Bagshot']"
      ]
     },
     "execution_count": 13,
     "metadata": {},
     "output_type": "execute_result"
    }
   ],
   "source": [
    "characters[:3]"
   ]
  },
  {
   "cell_type": "code",
   "execution_count": 20,
   "id": "d97655e6-c990-441d-9e8a-8f4dc377a723",
   "metadata": {},
   "outputs": [
    {
     "name": "stdout",
     "output_type": "stream",
     "text": [
      "Mr. Dursley was the director of a firm called Grunnings, which made\n",
      "drills. He was a big, beefy man with hardly any neck, although he did\n",
      "have a very large mustache. Mrs. Dursley was thin and blonde and had\n",
      "nearly twice the usual amount of neck, which came in very useful as she\n",
      "spent so much of her time craning over garden fences, spying on the\n",
      "neighbors. The Dursleys had a small son called Dudley and in their\n",
      "opinion there was no finer boy anywhere.\n",
      "Mr. Dursley was the director of a firm called Grunnings, which made drills. He was a big, beefy man with hardly any neck, although he did have a very large mustache. Mrs. Dursley was thin and blonde and had nearly twice the usual amount of neck, which came in very useful as she spent so much of her time craning over garden fences, spying on the neighbors. The Dursleys had a small son called Dudley and in their opinion there was no finer boy anywhere.\n",
      "Mr Dursley was the director of a firm called Grunnings which made drills He was a big beefy man with hardly any neck although he did have a very large mustache Mrs Dursley was thin and blonde and had nearly twice the usual amount of neck which came in very useful as she spent so much of her time craning over garden fences spying on the neighbors The Dursleys had a small son called Dudley and in their opinion there was no finer boy anywhere\n",
      "['Mr', 'Dursley', 'was', 'the', 'director', 'of', 'a', 'firm', 'called', 'Grunnings', 'which', 'made', 'drills', 'He', 'was', 'a', 'big', 'beefy', 'man', 'with', 'hardly', 'any', 'neck', 'although', 'he', 'did', 'have', 'a', 'very', 'large', 'mustache', 'Mrs', 'Dursley', 'was', 'thin', 'and', 'blonde', 'and', 'had', 'nearly', 'twice', 'the', 'usual', 'amount', 'of', 'neck', 'which', 'came', 'in', 'very', 'useful', 'as', 'she', 'spent', 'so', 'much', 'of', 'her', 'time', 'craning', 'over', 'garden', 'fences', 'spying', 'on', 'the', 'neighbors', 'The', 'Dursleys', 'had', 'a', 'small', 'son', 'called', 'Dudley', 'and', 'in', 'their', 'opinion', 'there', 'was', 'no', 'finer', 'boy', 'anywhere']\n"
     ]
    }
   ],
   "source": [
    "for segment in test:\n",
    "    print(segment)\n",
    "\n",
    "    # Remove line breaks so the computer can handle this better\n",
    "    segment = segment.strip()\n",
    "    segment = segment.replace(\"\\n\", \" \")\n",
    "    print(segment + \"\\n\\n\")\n",
    "\n",
    "    # Remove punctuation for the model - Best practice in NLP\n",
    "    punc = '''!()-[]{};:'\"\\,<>./?@#$%^&*_~'''\n",
    "    for ele in segment:\n",
    "        if ele in punc:\n",
    "            segment = segment.replace(ele, \"\")\n",
    "    # print(segment)\n",
    "\n",
    "    # Get individual words of the text -> In novels and other large text we dont usually use full name but the forst name only\n",
    "    words = segment.split()\n",
    "    print(words + \"\\n\\n\")\n",
    "    \n",
    "    # Direct matching should fail\n",
    "    for word in words:\n",
    "        if word in characters:\n",
    "            print(word)\n",
    "            \n",
    "                              \n",
    "    "
   ]
  },
  {
   "cell_type": "code",
   "execution_count": null,
   "id": "33571471-fdea-48f2-ab6d-c0eb65c710e1",
   "metadata": {},
   "outputs": [],
   "source": [
    "# R"
   ]
  }
 ],
 "metadata": {
  "kernelspec": {
   "display_name": "spacy1",
   "language": "python",
   "name": "spacy1"
  },
  "language_info": {
   "codemirror_mode": {
    "name": "ipython",
    "version": 3
   },
   "file_extension": ".py",
   "mimetype": "text/x-python",
   "name": "python",
   "nbconvert_exporter": "python",
   "pygments_lexer": "ipython3",
   "version": "3.9.18"
  }
 },
 "nbformat": 4,
 "nbformat_minor": 5
}
