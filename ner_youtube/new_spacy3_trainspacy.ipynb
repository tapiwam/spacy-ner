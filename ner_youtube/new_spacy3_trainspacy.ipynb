{
 "cells": [
  {
   "cell_type": "code",
   "execution_count": 5,
   "id": "38c0d980-bc96-46b2-9585-69d6f8a6baa8",
   "metadata": {},
   "outputs": [],
   "source": [
    "import spacy\n",
    "import json\n",
    "import random"
   ]
  },
  {
   "cell_type": "code",
   "execution_count": 12,
   "id": "fb9e53a7-aede-4752-9092-958f00f27b39",
   "metadata": {},
   "outputs": [],
   "source": [
    "def load_data(file):\n",
    "    with open(file, \"r\", encoding=\"utf-8\") as f:\n",
    "        data = json.load(f)\n",
    "    return (data)\n",
    "\n",
    "def save_data(file, data):\n",
    "    with open(file, \"w\", encoding=\"utf-8\") as f:\n",
    "        json.dump(data, f, indent=4)\n",
    "\n",
    "\n",
    "#TRAIN_DATA = [(text, {\"entities\": [(start, end, label)]})]\n",
    "def test_model(model, text):\n",
    "    doc = nlp(text)\n",
    "    results = []\n",
    "    entities = []\n",
    "    for ent in doc.ents:\n",
    "        entities.append((ent.start_char, ent.end_char, ent.label_))\n",
    "    if len(entities) > 0:\n",
    "        results = [text, {\"entities\": entities}]\n",
    "        return (results)"
   ]
  },
  {
   "cell_type": "code",
   "execution_count": 13,
   "id": "b6b209dc-92d3-412a-9b38-d27125e8b083",
   "metadata": {},
   "outputs": [
    {
     "name": "stdout",
     "output_type": "stream",
     "text": [
      "2213\n"
     ]
    }
   ],
   "source": [
    "nlp = spacy.load(\"hp_ner\")\n",
    "\n",
    "TRAIN_DATA = []\n",
    "with open (\"data/hp.txt\", \"r\")as f:\n",
    "    text = f.read()\n",
    "\n",
    "    chapters = text.split(\"CHAPTER\")[1:]\n",
    "    for chapter in chapters:\n",
    "        chapter_num, chapter_title = chapter.split(\"\\n\\n\")[0:2]\n",
    "        chapter_num = chapter_num.strip()\n",
    "        segments = chapter.split(\"\\n\\n\")[2:]\n",
    "        hits = []\n",
    "        for segment in segments:\n",
    "            segment = segment.strip()\n",
    "            segment = segment.replace(\"\\n\", \" \")\n",
    "            results = test_model(nlp, segment)\n",
    "            if results != None:\n",
    "                TRAIN_DATA.append(results)\n",
    "\n",
    "print (len(TRAIN_DATA))\n"
   ]
  },
  {
   "cell_type": "code",
   "execution_count": 16,
   "id": "faa16d3f-6f09-4aee-a35b-48bf5ac83427",
   "metadata": {},
   "outputs": [
    {
     "data": {
      "text/plain": [
       "[\"Mr. and Mrs. Dursley, of number four, Privet Drive, were proud to say that they were perfectly normal, thank you very much. They were the last people you'd expect to be involved in anything strange or mysterious, because they just didn't hold with such nonsense.\",\n",
       " {'entities': [(0, 20, 'PERSON')]}]"
      ]
     },
     "execution_count": 16,
     "metadata": {},
     "output_type": "execute_result"
    }
   ],
   "source": [
    "TRAIN_DATA[0]"
   ]
  },
  {
   "cell_type": "code",
   "execution_count": 17,
   "id": "a5c7c0e7-c165-467c-90a6-2f41e8b89599",
   "metadata": {},
   "outputs": [],
   "source": [
    "save_data(\"data/hp_training_data.json\", TRAIN_DATA)"
   ]
  },
  {
   "cell_type": "code",
   "execution_count": 26,
   "id": "0ae263a8-427e-4974-b702-75d87d7c8b81",
   "metadata": {},
   "outputs": [],
   "source": [
    "from spacy.training.example import Example\n",
    "\n",
    "def train_spacy(data, iterations):\n",
    "    TRAIN_DATA = data\n",
    "    nlp = spacy.blank(\"en\")\n",
    "\n",
    "    # Get ner pipeline\n",
    "    if \"ner\" not in nlp.pipe_names:\n",
    "        ner = nlp.add_pipe(\"ner\")\n",
    "    else:\n",
    "        ner = nlp.get_pipe(\"ner\")\n",
    "\n",
    "    # Iterate over all entities and add labels to NER model - These could be custom\n",
    "    for _, annotations in TRAIN_DATA:\n",
    "        for ent in annotations.get(\"entities\"):\n",
    "            ner.add_label(ent[2])\n",
    "\n",
    "    # Find all other pipes and disable them\n",
    "    other_pipes = [pipe for pipe in nlp.pipe_names if pipe != \"ner\"]\n",
    "    with nlp.select_pipes(disable=other_pipes):\n",
    "        \n",
    "        optimizer = nlp.initialize()\n",
    "        for itn in range(iterations):\n",
    "            print(\"Starting iteration \" + str(itn))\n",
    "            random.shuffle(TRAIN_DATA)\n",
    "            losses = {}\n",
    "            for text, annotations in TRAIN_DATA:\n",
    "                example = Example.from_dict(nlp.make_doc(text), annotations)\n",
    "                nlp.update(\n",
    "                    [example],\n",
    "                    drop=0.2,\n",
    "                    sgd=optimizer,\n",
    "                    losses=losses\n",
    "                )\n",
    "            print(losses)\n",
    "    return nlp"
   ]
  },
  {
   "cell_type": "code",
   "execution_count": null,
   "id": "3099a6fe-b618-461f-9b52-c4844df77560",
   "metadata": {},
   "outputs": [
    {
     "name": "stdout",
     "output_type": "stream",
     "text": [
      "Starting iteration 0\n",
      "{'ner': 882.4063242711264}\n",
      "Starting iteration 1\n",
      "{'ner': 224.5125649694635}\n",
      "Starting iteration 2\n",
      "{'ner': 119.971207645899}\n",
      "Starting iteration 3\n",
      "{'ner': 135.8510571489502}\n",
      "Starting iteration 4\n",
      "{'ner': 81.66980922921383}\n",
      "Starting iteration 5\n",
      "{'ner': 65.39113734567212}\n",
      "Starting iteration 6\n",
      "{'ner': 79.33539710237855}\n",
      "Starting iteration 7\n",
      "{'ner': 76.1587136903285}\n",
      "Starting iteration 8\n",
      "{'ner': 43.04621944385383}\n",
      "Starting iteration 9\n",
      "{'ner': 40.385160226992205}\n",
      "Starting iteration 10\n",
      "{'ner': 35.203288566882506}\n",
      "Starting iteration 11\n",
      "{'ner': 36.958736954395114}\n",
      "Starting iteration 12\n",
      "{'ner': 35.80949118649959}\n",
      "Starting iteration 13\n",
      "{'ner': 9.733852724509132}\n",
      "Starting iteration 14\n",
      "{'ner': 1.740386369374765}\n",
      "Starting iteration 15\n",
      "{'ner': 0.006831875724748506}\n",
      "Starting iteration 16\n",
      "{'ner': 70.33368192341253}\n",
      "Starting iteration 17\n",
      "{'ner': 29.8763223222195}\n",
      "Starting iteration 18\n",
      "{'ner': 13.567793729582318}\n",
      "Starting iteration 19\n",
      "{'ner': 16.633665949743076}\n",
      "Starting iteration 20\n"
     ]
    }
   ],
   "source": [
    "train_spacy(TRAIN_DATA, 30)"
   ]
  },
  {
   "cell_type": "code",
   "execution_count": null,
   "id": "15be1864-12f0-44f5-a64f-87f58e547e5e",
   "metadata": {},
   "outputs": [],
   "source": [
    "test = \"Harry James[59] Potter (b. 31 July 1980[1]) was an English half-blood[2] wizard, and one of the most famous wizards of modern times. He was the only child and son of James and Lily Potter (née Evans), both members of the original Order of the Phoenix. Harry's birth was overshadowed by a prophecy, naming either himself or Neville Longbottom as the one with the power to vanquish Lord Voldemort. After half of the prophecy was reported to Voldemort, courtesy of Severus Snape, Harry was chosen as the target due to his many similarities with the Dark Lord. In turn, this caused the Potter family to go into hiding. Voldemort made his first vain attempt to circumvent the prophecy when Harry was a year and three months old. During this attempt, he murdered Harry's parents as they tried to protect him, but this unsuccessful attempt to kill Harry led to Voldemort's first downfall. This downfall marked the end of the First Wizarding War, and to Harry henceforth being known as the 'Boy Who Lived',[5] as he was the only known survivor of the Killing Curse. One consequence of Lily's loving sacrifice was that her orphaned son had to be raised by her only remaining blood relative, his Muggle aunt, Petunia Dursley. While in her care he would be protected from Lord Voldemort, due to the Bond of Blood charm Albus Dumbledore placed upon him.[60] This powerful charm would protect him until he became of age, or no longer called his aunt's house home. Due to Petunia's resentment of her sister and her magic gifts, Harry grew up abused and neglected. On his eleventh birthday, Harry learned that he was a wizard, from Rubeus Hagrid.[61] He began attending Hogwarts School of Witchcraft and Wizardry in 1991. The Sorting Hat was initially going to Sort Harry into Slytherin House, but Harry pleaded 'not Slytherin' and the Hat heeded this plea, instead sorting the young wizard into Gryffindor House.[62] At school, Harry became best friends with Ron Weasley and Hermione Granger. He later became the youngest Quidditch Seeker in over a century and eventually the captain of the Gryffindor House Quidditch Team in his sixth year, winning two Quidditch Cups.[63] He became even better known in his early years for protecting the Philosopher's Stone from Voldemort, saving Ron's sister Ginny Weasley, solving the mystery of the Chamber of Secrets, slaying Salazar Slytherin's basilisk, and learning how to conjure a corporeal stag Patronus at the age of thirteen. In his fourth year, Harry won the Triwizard Tournament, although the competition ended with the tragic death of Cedric Diggory and the return of Lord Voldemort. During the next school year, Harry reluctantly taught and led Dumbledore's Army. He also fought in the Battle of the Department of Mysteries, during which he lost his godfather, Sirius Black.\"\n",
    "\n",
    "import re\n",
    "\n",
    "def clean_text(text):\n",
    "    cleaned = re.sub(r\"[\\(\\[].*?[\\)\\]]\", \"\", text)\n",
    "    return (cleaned)\n",
    "\n",
    "test = clean_text(test)\n",
    "people = []\n",
    "nlp = spacy.load(\"hp_ner_model\")\n",
    "doc = nlp(test)\n",
    "for ent in doc.ents:\n",
    "    print (ent)"
   ]
  },
  {
   "cell_type": "code",
   "execution_count": null,
   "id": "1093234e-8a0c-430f-938d-c3502365725c",
   "metadata": {},
   "outputs": [],
   "source": [
    "nlp.to_disk(\"hp_ner_model\")"
   ]
  },
  {
   "cell_type": "code",
   "execution_count": null,
   "id": "49acf3de-e76e-4290-b402-dc59230a33e0",
   "metadata": {},
   "outputs": [],
   "source": []
  }
 ],
 "metadata": {
  "kernelspec": {
   "display_name": "spacy1",
   "language": "python",
   "name": "spacy1"
  },
  "language_info": {
   "codemirror_mode": {
    "name": "ipython",
    "version": 3
   },
   "file_extension": ".py",
   "mimetype": "text/x-python",
   "name": "python",
   "nbconvert_exporter": "python",
   "pygments_lexer": "ipython3",
   "version": "3.9.18"
  }
 },
 "nbformat": 4,
 "nbformat_minor": 5
}
