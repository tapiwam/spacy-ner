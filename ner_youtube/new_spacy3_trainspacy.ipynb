{
 "cells": [
  {
   "cell_type": "code",
   "execution_count": 1,
   "id": "38c0d980-bc96-46b2-9585-69d6f8a6baa8",
   "metadata": {},
   "outputs": [],
   "source": [
    "import spacy\n",
    "import json\n",
    "import random"
   ]
  },
  {
   "cell_type": "code",
   "execution_count": 2,
   "id": "fb9e53a7-aede-4752-9092-958f00f27b39",
   "metadata": {},
   "outputs": [],
   "source": [
    "def load_data(file):\n",
    "    with open(file, \"r\", encoding=\"utf-8\") as f:\n",
    "        data = json.load(f)\n",
    "    return (data)\n",
    "\n",
    "def save_data(file, data):\n",
    "    with open(file, \"w\", encoding=\"utf-8\") as f:\n",
    "        json.dump(data, f, indent=4)\n",
    "\n",
    "\n",
    "#TRAIN_DATA = [(text, {\"entities\": [(start, end, label)]})]\n",
    "def test_model(model, text):\n",
    "    doc = nlp(text)\n",
    "    results = []\n",
    "    entities = []\n",
    "    for ent in doc.ents:\n",
    "        entities.append((ent.start_char, ent.end_char, ent.label_))\n",
    "    if len(entities) > 0:\n",
    "        results = [text, {\"entities\": entities}]\n",
    "        return (results)"
   ]
  },
  {
   "cell_type": "code",
   "execution_count": 3,
   "id": "b6b209dc-92d3-412a-9b38-d27125e8b083",
   "metadata": {},
   "outputs": [
    {
     "name": "stderr",
     "output_type": "stream",
     "text": [
      "[nltk_data] Downloading package omw-1.4 to /home/jovyan/nltk_data...\n",
      "[nltk_data]   Package omw-1.4 is already up-to-date!\n",
      "[nltk_data] Downloading package omw-1.4 to /home/jovyan/nltk_data...\n",
      "[nltk_data]   Package omw-1.4 is already up-to-date!\n"
     ]
    },
    {
     "name": "stdout",
     "output_type": "stream",
     "text": [
      "2213\n"
     ]
    }
   ],
   "source": [
    "nlp = spacy.load(\"hp_ner\")\n",
    "\n",
    "TRAIN_DATA = []\n",
    "with open (\"data/hp.txt\", \"r\")as f:\n",
    "    text = f.read()\n",
    "\n",
    "    chapters = text.split(\"CHAPTER\")[1:]\n",
    "    for chapter in chapters:\n",
    "        chapter_num, chapter_title = chapter.split(\"\\n\\n\")[0:2]\n",
    "        chapter_num = chapter_num.strip()\n",
    "        segments = chapter.split(\"\\n\\n\")[2:]\n",
    "        hits = []\n",
    "        for segment in segments:\n",
    "            segment = segment.strip()\n",
    "            segment = segment.replace(\"\\n\", \" \")\n",
    "            results = test_model(nlp, segment)\n",
    "            if results != None:\n",
    "                TRAIN_DATA.append(results)\n",
    "\n",
    "print (len(TRAIN_DATA))\n"
   ]
  },
  {
   "cell_type": "code",
   "execution_count": 4,
   "id": "faa16d3f-6f09-4aee-a35b-48bf5ac83427",
   "metadata": {},
   "outputs": [
    {
     "data": {
      "text/plain": [
       "[\"Mr. and Mrs. Dursley, of number four, Privet Drive, were proud to say that they were perfectly normal, thank you very much. They were the last people you'd expect to be involved in anything strange or mysterious, because they just didn't hold with such nonsense.\",\n",
       " {'entities': [(0, 20, 'PERSON')]}]"
      ]
     },
     "execution_count": 4,
     "metadata": {},
     "output_type": "execute_result"
    }
   ],
   "source": [
    "TRAIN_DATA[0]"
   ]
  },
  {
   "cell_type": "code",
   "execution_count": 5,
   "id": "a5c7c0e7-c165-467c-90a6-2f41e8b89599",
   "metadata": {},
   "outputs": [],
   "source": [
    "save_data(\"data/hp_training_data.json\", TRAIN_DATA)"
   ]
  },
  {
   "cell_type": "code",
   "execution_count": 6,
   "id": "0ae263a8-427e-4974-b702-75d87d7c8b81",
   "metadata": {},
   "outputs": [],
   "source": [
    "from spacy.training.example import Example\n",
    "\n",
    "def train_spacy(data, iterations):\n",
    "    TRAIN_DATA = data\n",
    "    nlp = spacy.blank(\"en\")\n",
    "\n",
    "    # Get ner pipeline\n",
    "    if \"ner\" not in nlp.pipe_names:\n",
    "        ner = nlp.add_pipe(\"ner\")\n",
    "    else:\n",
    "        ner = nlp.get_pipe(\"ner\")\n",
    "\n",
    "    # Iterate over all entities and add labels to NER model - These could be custom\n",
    "    for _, annotations in TRAIN_DATA:\n",
    "        for ent in annotations.get(\"entities\"):\n",
    "            ner.add_label(ent[2])\n",
    "\n",
    "    # Find all other pipes and disable them\n",
    "    other_pipes = [pipe for pipe in nlp.pipe_names if pipe != \"ner\"]\n",
    "    with nlp.select_pipes(disable=other_pipes):\n",
    "        \n",
    "        optimizer = nlp.initialize()\n",
    "        for itn in range(iterations):\n",
    "            print(\"Starting iteration \" + str(itn))\n",
    "            random.shuffle(TRAIN_DATA)\n",
    "            losses = {}\n",
    "            for text, annotations in TRAIN_DATA:\n",
    "                example = Example.from_dict(nlp.make_doc(text), annotations)\n",
    "                nlp.update(\n",
    "                    [example],\n",
    "                    drop=0.2,\n",
    "                    sgd=optimizer,\n",
    "                    losses=losses\n",
    "                )\n",
    "            print(losses)\n",
    "    return nlp"
   ]
  },
  {
   "cell_type": "code",
   "execution_count": 7,
   "id": "3099a6fe-b618-461f-9b52-c4844df77560",
   "metadata": {},
   "outputs": [
    {
     "name": "stdout",
     "output_type": "stream",
     "text": [
      "Starting iteration 0\n",
      "{'ner': 1132.1806189301226}\n",
      "Starting iteration 1\n",
      "{'ner': 218.6240124028235}\n",
      "Starting iteration 2\n",
      "{'ner': 164.8000807206745}\n",
      "Starting iteration 3\n",
      "{'ner': 133.76708565950537}\n",
      "Starting iteration 4\n",
      "{'ner': 104.09514515410353}\n",
      "Starting iteration 5\n",
      "{'ner': 80.78760596675338}\n",
      "Starting iteration 6\n",
      "{'ner': 58.782966344951454}\n",
      "Starting iteration 7\n",
      "{'ner': 73.36637934108118}\n",
      "Starting iteration 8\n",
      "{'ner': 97.76912464141775}\n",
      "Starting iteration 9\n",
      "{'ner': 63.72493843998151}\n",
      "Starting iteration 10\n",
      "{'ner': 61.652767703515885}\n",
      "Starting iteration 11\n",
      "{'ner': 67.84885246224313}\n",
      "Starting iteration 12\n",
      "{'ner': 32.19507403262473}\n",
      "Starting iteration 13\n",
      "{'ner': 47.24233097568494}\n",
      "Starting iteration 14\n",
      "{'ner': 33.34389929798864}\n",
      "Starting iteration 15\n",
      "{'ner': 51.39012758053487}\n",
      "Starting iteration 16\n",
      "{'ner': 41.576722878051534}\n",
      "Starting iteration 17\n",
      "{'ner': 2.588130348202603}\n",
      "Starting iteration 18\n",
      "{'ner': 41.65639087128584}\n",
      "Starting iteration 19\n",
      "{'ner': 33.93381071267039}\n",
      "Starting iteration 20\n",
      "{'ner': 15.734915676366075}\n",
      "Starting iteration 21\n",
      "{'ner': 24.477336245207383}\n",
      "Starting iteration 22\n",
      "{'ner': 52.36350917709449}\n",
      "Starting iteration 23\n",
      "{'ner': 23.998360723184877}\n",
      "Starting iteration 24\n",
      "{'ner': 32.952302484071616}\n",
      "Starting iteration 25\n",
      "{'ner': 22.29922124293293}\n",
      "Starting iteration 26\n",
      "{'ner': 25.318212509165537}\n",
      "Starting iteration 27\n",
      "{'ner': 22.689102098297745}\n",
      "Starting iteration 28\n",
      "{'ner': 4.352888970997045}\n",
      "Starting iteration 29\n",
      "{'ner': 10.88931796742246}\n"
     ]
    },
    {
     "data": {
      "text/plain": [
       "<spacy.lang.en.English at 0x7f7705ddb490>"
      ]
     },
     "execution_count": 7,
     "metadata": {},
     "output_type": "execute_result"
    }
   ],
   "source": [
    "train_spacy(TRAIN_DATA, 30)"
   ]
  },
  {
   "cell_type": "code",
   "execution_count": 8,
   "id": "15be1864-12f0-44f5-a64f-87f58e547e5e",
   "metadata": {},
   "outputs": [
    {
     "ename": "OSError",
     "evalue": "[E050] Can't find model 'hp_ner_model'. It doesn't seem to be a Python package or a valid path to a data directory.",
     "output_type": "error",
     "traceback": [
      "\u001b[0;31m---------------------------------------------------------------------------\u001b[0m",
      "\u001b[0;31mOSError\u001b[0m                                   Traceback (most recent call last)",
      "Cell \u001b[0;32mIn[8], line 11\u001b[0m\n\u001b[1;32m      9\u001b[0m test \u001b[38;5;241m=\u001b[39m clean_text(test)\n\u001b[1;32m     10\u001b[0m people \u001b[38;5;241m=\u001b[39m []\n\u001b[0;32m---> 11\u001b[0m nlp \u001b[38;5;241m=\u001b[39m \u001b[43mspacy\u001b[49m\u001b[38;5;241;43m.\u001b[39;49m\u001b[43mload\u001b[49m\u001b[43m(\u001b[49m\u001b[38;5;124;43m\"\u001b[39;49m\u001b[38;5;124;43mhp_ner_model\u001b[39;49m\u001b[38;5;124;43m\"\u001b[39;49m\u001b[43m)\u001b[49m\n\u001b[1;32m     12\u001b[0m doc \u001b[38;5;241m=\u001b[39m nlp(test)\n\u001b[1;32m     13\u001b[0m \u001b[38;5;28;01mfor\u001b[39;00m ent \u001b[38;5;129;01min\u001b[39;00m doc\u001b[38;5;241m.\u001b[39ments:\n",
      "File \u001b[0;32m/opt/conda/envs/spacy1/lib/python3.9/site-packages/spacy/__init__.py:51\u001b[0m, in \u001b[0;36mload\u001b[0;34m(name, vocab, disable, exclude, config)\u001b[0m\n\u001b[1;32m     30\u001b[0m \u001b[38;5;28;01mdef\u001b[39;00m \u001b[38;5;21mload\u001b[39m(\n\u001b[1;32m     31\u001b[0m     name: Union[\u001b[38;5;28mstr\u001b[39m, Path],\n\u001b[1;32m     32\u001b[0m     \u001b[38;5;241m*\u001b[39m,\n\u001b[0;32m   (...)\u001b[0m\n\u001b[1;32m     36\u001b[0m     config: Union[Dict[\u001b[38;5;28mstr\u001b[39m, Any], Config] \u001b[38;5;241m=\u001b[39m util\u001b[38;5;241m.\u001b[39mSimpleFrozenDict(),\n\u001b[1;32m     37\u001b[0m ) \u001b[38;5;241m-\u001b[39m\u001b[38;5;241m>\u001b[39m Language:\n\u001b[1;32m     38\u001b[0m \u001b[38;5;250m    \u001b[39m\u001b[38;5;124;03m\"\"\"Load a spaCy model from an installed package or a local path.\u001b[39;00m\n\u001b[1;32m     39\u001b[0m \n\u001b[1;32m     40\u001b[0m \u001b[38;5;124;03m    name (str): Package name or model path.\u001b[39;00m\n\u001b[0;32m   (...)\u001b[0m\n\u001b[1;32m     49\u001b[0m \u001b[38;5;124;03m    RETURNS (Language): The loaded nlp object.\u001b[39;00m\n\u001b[1;32m     50\u001b[0m \u001b[38;5;124;03m    \"\"\"\u001b[39;00m\n\u001b[0;32m---> 51\u001b[0m     \u001b[38;5;28;01mreturn\u001b[39;00m \u001b[43mutil\u001b[49m\u001b[38;5;241;43m.\u001b[39;49m\u001b[43mload_model\u001b[49m\u001b[43m(\u001b[49m\n\u001b[1;32m     52\u001b[0m \u001b[43m        \u001b[49m\u001b[43mname\u001b[49m\u001b[43m,\u001b[49m\u001b[43m \u001b[49m\u001b[43mvocab\u001b[49m\u001b[38;5;241;43m=\u001b[39;49m\u001b[43mvocab\u001b[49m\u001b[43m,\u001b[49m\u001b[43m \u001b[49m\u001b[43mdisable\u001b[49m\u001b[38;5;241;43m=\u001b[39;49m\u001b[43mdisable\u001b[49m\u001b[43m,\u001b[49m\u001b[43m \u001b[49m\u001b[43mexclude\u001b[49m\u001b[38;5;241;43m=\u001b[39;49m\u001b[43mexclude\u001b[49m\u001b[43m,\u001b[49m\u001b[43m \u001b[49m\u001b[43mconfig\u001b[49m\u001b[38;5;241;43m=\u001b[39;49m\u001b[43mconfig\u001b[49m\n\u001b[1;32m     53\u001b[0m \u001b[43m    \u001b[49m\u001b[43m)\u001b[49m\n",
      "File \u001b[0;32m/opt/conda/envs/spacy1/lib/python3.9/site-packages/spacy/util.py:356\u001b[0m, in \u001b[0;36mload_model\u001b[0;34m(name, vocab, disable, exclude, config)\u001b[0m\n\u001b[1;32m    354\u001b[0m \u001b[38;5;28;01mif\u001b[39;00m name \u001b[38;5;129;01min\u001b[39;00m OLD_MODEL_SHORTCUTS:\n\u001b[1;32m    355\u001b[0m     \u001b[38;5;28;01mraise\u001b[39;00m \u001b[38;5;167;01mIOError\u001b[39;00m(Errors\u001b[38;5;241m.\u001b[39mE941\u001b[38;5;241m.\u001b[39mformat(name\u001b[38;5;241m=\u001b[39mname, full\u001b[38;5;241m=\u001b[39mOLD_MODEL_SHORTCUTS[name]))  \u001b[38;5;66;03m# type: ignore[index]\u001b[39;00m\n\u001b[0;32m--> 356\u001b[0m \u001b[38;5;28;01mraise\u001b[39;00m \u001b[38;5;167;01mIOError\u001b[39;00m(Errors\u001b[38;5;241m.\u001b[39mE050\u001b[38;5;241m.\u001b[39mformat(name\u001b[38;5;241m=\u001b[39mname))\n",
      "\u001b[0;31mOSError\u001b[0m: [E050] Can't find model 'hp_ner_model'. It doesn't seem to be a Python package or a valid path to a data directory."
     ]
    }
   ],
   "source": [
    "test = \"Harry James[59] Potter (b. 31 July 1980[1]) was an English half-blood[2] wizard, and one of the most famous wizards of modern times. He was the only child and son of James and Lily Potter (née Evans), both members of the original Order of the Phoenix. Harry's birth was overshadowed by a prophecy, naming either himself or Neville Longbottom as the one with the power to vanquish Lord Voldemort. After half of the prophecy was reported to Voldemort, courtesy of Severus Snape, Harry was chosen as the target due to his many similarities with the Dark Lord. In turn, this caused the Potter family to go into hiding. Voldemort made his first vain attempt to circumvent the prophecy when Harry was a year and three months old. During this attempt, he murdered Harry's parents as they tried to protect him, but this unsuccessful attempt to kill Harry led to Voldemort's first downfall. This downfall marked the end of the First Wizarding War, and to Harry henceforth being known as the 'Boy Who Lived',[5] as he was the only known survivor of the Killing Curse. One consequence of Lily's loving sacrifice was that her orphaned son had to be raised by her only remaining blood relative, his Muggle aunt, Petunia Dursley. While in her care he would be protected from Lord Voldemort, due to the Bond of Blood charm Albus Dumbledore placed upon him.[60] This powerful charm would protect him until he became of age, or no longer called his aunt's house home. Due to Petunia's resentment of her sister and her magic gifts, Harry grew up abused and neglected. On his eleventh birthday, Harry learned that he was a wizard, from Rubeus Hagrid.[61] He began attending Hogwarts School of Witchcraft and Wizardry in 1991. The Sorting Hat was initially going to Sort Harry into Slytherin House, but Harry pleaded 'not Slytherin' and the Hat heeded this plea, instead sorting the young wizard into Gryffindor House.[62] At school, Harry became best friends with Ron Weasley and Hermione Granger. He later became the youngest Quidditch Seeker in over a century and eventually the captain of the Gryffindor House Quidditch Team in his sixth year, winning two Quidditch Cups.[63] He became even better known in his early years for protecting the Philosopher's Stone from Voldemort, saving Ron's sister Ginny Weasley, solving the mystery of the Chamber of Secrets, slaying Salazar Slytherin's basilisk, and learning how to conjure a corporeal stag Patronus at the age of thirteen. In his fourth year, Harry won the Triwizard Tournament, although the competition ended with the tragic death of Cedric Diggory and the return of Lord Voldemort. During the next school year, Harry reluctantly taught and led Dumbledore's Army. He also fought in the Battle of the Department of Mysteries, during which he lost his godfather, Sirius Black.\"\n",
    "\n",
    "import re\n",
    "\n",
    "def clean_text(text):\n",
    "    cleaned = re.sub(r\"[\\(\\[].*?[\\)\\]]\", \"\", text)\n",
    "    return (cleaned)\n",
    "\n",
    "test = clean_text(test)\n",
    "people = []\n",
    "nlp = spacy.load(\"hp_ner_model\")\n",
    "doc = nlp(test)\n",
    "for ent in doc.ents:\n",
    "    print (ent)"
   ]
  },
  {
   "cell_type": "code",
   "execution_count": null,
   "id": "1093234e-8a0c-430f-938d-c3502365725c",
   "metadata": {},
   "outputs": [],
   "source": [
    "nlp.to_disk(\"hp_ner_model\")"
   ]
  },
  {
   "cell_type": "code",
   "execution_count": null,
   "id": "49acf3de-e76e-4290-b402-dc59230a33e0",
   "metadata": {},
   "outputs": [],
   "source": []
  }
 ],
 "metadata": {
  "kernelspec": {
   "display_name": "spacy1",
   "language": "python",
   "name": "spacy1"
  },
  "language_info": {
   "codemirror_mode": {
    "name": "ipython",
    "version": 3
   },
   "file_extension": ".py",
   "mimetype": "text/x-python",
   "name": "python",
   "nbconvert_exporter": "python",
   "pygments_lexer": "ipython3",
   "version": "3.9.18"
  }
 },
 "nbformat": 4,
 "nbformat_minor": 5
}
