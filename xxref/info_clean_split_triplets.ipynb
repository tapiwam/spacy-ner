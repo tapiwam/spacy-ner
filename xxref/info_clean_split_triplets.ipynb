{
 "cells": [
  {
   "cell_type": "code",
   "execution_count": 1,
   "id": "8e919ec8-f11e-4764-937e-89f5eeaeea17",
   "metadata": {},
   "outputs": [],
   "source": [
    "# summarize and extract graph"
   ]
  },
  {
   "cell_type": "code",
   "execution_count": 2,
   "id": "81c8eff1-3ace-45de-bb7a-90c6cc75896a",
   "metadata": {},
   "outputs": [
    {
     "data": {
      "text/plain": [
       "True"
      ]
     },
     "execution_count": 2,
     "metadata": {},
     "output_type": "execute_result"
    }
   ],
   "source": [
    "import os\n",
    "from dotenv import load_dotenv\n",
    "\n",
    "load_dotenv()"
   ]
  },
  {
   "cell_type": "code",
   "execution_count": 16,
   "id": "d2b03e4c-435d-4641-94e4-a1171d59cd28",
   "metadata": {},
   "outputs": [],
   "source": [
    "from langchain.graphs import Neo4jGraph\n",
    "from langchain_openai import OpenAI\n",
    "from langchain_openai import ChatOpenAI\n",
    "from langchain.schema import AIMessage, HumanMessage, SystemMessage\n",
    "\n",
    "# Import chat templates\n",
    "from langchain.prompts import (\n",
    "    ChatPromptTemplate,\n",
    "    PromptTemplate,\n",
    "    SystemMessagePromptTemplate,\n",
    "    AIMessagePromptTemplate,\n",
    "    HumanMessagePromptTemplate,\n",
    ")\n",
    "\n",
    "# Caching\n",
    "from langchain.cache import InMemoryCache\n",
    "from langchain.cache import SQLiteCache\n",
    "from langchain.globals import set_llm_cache\n",
    "\n",
    "from langchain.chains.openai_functions import (\n",
    "    create_openai_fn_chain,\n",
    "    create_structured_output_runnable,\n",
    "    create_structured_output_chain\n",
    ")\n",
    "\n",
    "from langchain_community.graphs.graph_document import (\n",
    "    Node as BaseNode,\n",
    "    Relationship as BaseRelationship,\n",
    "    GraphDocument,\n",
    ")\n",
    "from langchain.schema import Document\n",
    "from typing import List, Dict, Any, Optional\n",
    "from langchain.pydantic_v1 import Field, BaseModel\n",
    "from tqdm import tqdm\n",
    "from langchain.document_loaders import WikipediaLoader\n",
    "from langchain.text_splitter import TokenTextSplitter\n",
    "from langchain_core.output_parsers import StrOutputParser\n"
   ]
  },
  {
   "cell_type": "code",
   "execution_count": 5,
   "id": "2e1dc9b3-4e2f-454b-a691-d8cdc4b41e67",
   "metadata": {},
   "outputs": [],
   "source": [
    "# Setup DB\n",
    "\n",
    "NEO_DB = os.getenv('NEO_DB')\n",
    "NEO_USER = os.getenv('NEO_USER')\n",
    "NEO_PASS = os.getenv('NEO_PASS')\n",
    "\n",
    "url=\"neo4j://192.168.68.84:7687/\"\n",
    "\n",
    "graph = Neo4jGraph(\n",
    "    url=url,\n",
    "    username=NEO_USER,\n",
    "    password=NEO_PASS\n",
    ")"
   ]
  },
  {
   "cell_type": "code",
   "execution_count": 7,
   "id": "d3f17d6f-1901-40c2-ae6f-bc9490386251",
   "metadata": {},
   "outputs": [],
   "source": [
    "# Get documnets\n",
    "\n",
    "# Read the wikipedia article\n",
    "raw_documents = WikipediaLoader(query=\"Mistborn\").load()\n"
   ]
  },
  {
   "cell_type": "code",
   "execution_count": 10,
   "id": "b0356454-28b4-4a5f-9609-4104532e54bd",
   "metadata": {},
   "outputs": [],
   "source": [
    "# Define chunking strategy\n",
    "text_splitter = TokenTextSplitter(chunk_size=2048, chunk_overlap=24)\n",
    "\n",
    "# Only take the first the raw_documents\n",
    "documents = text_splitter.split_documents(raw_documents)"
   ]
  },
  {
   "cell_type": "code",
   "execution_count": 11,
   "id": "456a382c-4f30-4b68-a1e8-30ac952d13c5",
   "metadata": {},
   "outputs": [
    {
     "data": {
      "text/plain": [
       "25"
      ]
     },
     "execution_count": 11,
     "metadata": {},
     "output_type": "execute_result"
    }
   ],
   "source": [
    "len(documents)"
   ]
  },
  {
   "cell_type": "code",
   "execution_count": null,
   "id": "fbef4a85-c6fd-47f8-8cb0-fa2ac17b350c",
   "metadata": {},
   "outputs": [],
   "source": []
  },
  {
   "cell_type": "code",
   "execution_count": 40,
   "id": "5019395c-616b-4e66-af68-2b5ca43e655a",
   "metadata": {},
   "outputs": [],
   "source": [
    "def get_system_template():\n",
    "    system_template = f\"\"\"\n",
    "    You are a top-tier algorithm designed for extracting information in structured formats to build a knowledge graph. Your task is to summarize and clean data as cleanly and consisely as possible. \n",
    "    The aim is to achieve simplicity and clarity in the knowledge graph, making it accessible for a vast audience.\n",
    "    \n",
    "    ## Handling Numerical Data and Dates\n",
    "    - Numerical data, like age or other related information, should be incorporated as attributes or properties of the respective nodes.\n",
    "    - **Quotation Marks**: Never use escaped single or double quotes within property values.\n",
    "    \n",
    "    ## Coreference Resolution\n",
    "    - **Maintain Entity Consistency**: When extracting entities, it's vital to ensure consistency.\n",
    "    If an entity, such as \"John Doe\", is mentioned multiple times in the text but is referred to by different names or pronouns (e.g., \"Joe\", \"he\"), \n",
    "    always use the most complete identifier for that entity throughout the knowledge graph. In this example, use \"John Doe\" as the entity ID.  \n",
    "    Remember, the knowledge sentences should be coherent and easily understandable, so maintaining consistency in entity references is crucial. \n",
    "    \"\"\"\n",
    "    return system_template\n",
    "\n",
    "\"\"\"\n",
    "    ## Examples\n",
    "    \"Do not forget about Momofuku Ando! He created instant noodles in Osaka. At that location, Nissin was founded.\" should be converted to \n",
    "    - \"Momofuku Ando created instant noodles in Osaka.\"\n",
    "    - \"Nissin was founded in Osaka.\n",
    "    \"\"\"\n",
    "\n",
    "from langchain.chains import LLMChain, SimpleSequentialChain\n",
    "\n",
    "def get_extraction_chain( llm):\n",
    "    human_template = \"\"\"\n",
    "    Summarize and simplify the given input below in triple backtics: \n",
    "    ```{input}```\n",
    "\n",
    "    Format Instructions: Each sentence should be on a new line. Do not add bullets or numbering.\n",
    "    \"\"\"\n",
    "\n",
    "    # Shot Prompt\n",
    "    sample_input_1=\"Do not forget about Momofuku Ando! He created instant noodles in Osaka. At that location, Nissin was founded.\"\n",
    "    sample_output_1 = \"Sample response = Momofuku Ando created instant noodles in Osaka. Nissin was founded in Osaka.\"\n",
    "    sample_human_prompt_1 = HumanMessagePromptTemplate.from_template(sample_input_1)\n",
    "    sample_ai_output_1 = AIMessagePromptTemplate.from_template(sample_output_1)\n",
    "\n",
    "    # \n",
    "    system_prompt = SystemMessagePromptTemplate.from_template(get_system_template())\n",
    "    human_prompt = HumanMessagePromptTemplate.from_template(human_template)\n",
    "    \n",
    "    chat_prompt = ChatPromptTemplate.from_messages([system_prompt, sample_human_prompt_1, sample_ai_output_1, human_prompt])\n",
    "    chain = LLMChain(llm=llm, prompt=chat_prompt)\n",
    "    \n",
    "    return SimpleSequentialChain(chains=[chain])\n"
   ]
  },
  {
   "cell_type": "code",
   "execution_count": 41,
   "id": "7ac32b8c-f1f3-4bcd-b8f9-7b1b9c54ef9f",
   "metadata": {},
   "outputs": [],
   "source": [
    "llm = ChatOpenAI(model=\"gpt-3.5-turbo-16k\", temperature=0)\n",
    "\n",
    "chain = get_extraction_chain(llm)\n"
   ]
  },
  {
   "cell_type": "code",
   "execution_count": 42,
   "id": "a277fb13-837c-4bb1-9ad1-f7e213b67600",
   "metadata": {},
   "outputs": [],
   "source": [
    "resp = chain.invoke(documents[0].page_content)"
   ]
  },
  {
   "cell_type": "code",
   "execution_count": 43,
   "id": "8c84117f-8661-47b2-a4f3-c71b67bf5c22",
   "metadata": {},
   "outputs": [
    {
     "name": "stdout",
     "output_type": "stream",
     "text": [
      "Mistborn is a series of epic fantasy novels written by American author Brandon Sanderson and published by Tor Books. The first trilogy, published between 2006 and 2008, consists of The Final Empire, The Well of Ascension, and The Hero of Ages. A second series was released between 2011 and 2022, and consists of the quartet The Alloy of Law, Shadows of Self, The Bands of Mourning and The Lost Metal. Sanderson also released a novella in 2016, Mistborn: Secret History. Sanderson plans to write a third and fourth series.\n",
      "The first Mistborn trilogy chronicles the efforts of a secret group of Allomancers who attempt to overthrow a dystopian empire and establish themselves in a world covered by ash. The neologism Allomancer comes from two Greek words ἄλλος (allos) meaning otherly or different, and  μαντεία (manteía) meaning divination or sorcery, it indicates well the peculiar powers of this sect. The first trilogy was a huge success. This success pushed Sanderson to further develop his fictional universe, the Cosmere, which also includes The Stormlight Archive. Set about 300 years after the ending of the first trilogy, the second series is about the exploits of Waxillium Ladrian, a \"wild-west Deputy\" forced to move into the big city, and starts investigating kidnappings and robberies. The third series will be set in the early computer age with 1980s technology. The main character is planned as a Terris woman who is a computer programmer and Nicroburst; her brother is also planned to be a character. The fourth series is planned to be a space-opera.\n",
      "\n",
      "\n",
      "== Development history ==\n",
      "Sanderson's first idea for Mistborn came while reading the Harry Potter series: He thought it would be interesting to set a story in a world where the \"dark lord\" triumphed and the \"prophesied hero\" failed. His second idea, originally unrelated, was to tell a heist story in a fantasy setting, an idea inspired by the Ocean's film series. The idea for the titular mist came while he was driving through mist in Idaho, which he combined with his memories of having once seen Washington National Cathedral lit from the inside. He originally developed feruchemy and allomancy for separate stories before deciding to bring them together in one story.Sanderson began work on Mistborn: The Final Empire while trying to get his earlier novel Elantris published. After writing two early iterations of Mistborn, he shifted his focus to his Stormlight Archive series, but chose to delay its publication in favor of completing the Mistborn series, which he thought would serve as a better follow-up to Elantris.\n",
      "\n",
      "\n",
      "=== Publication and future ===\n",
      "The original trilogy published by Sanderson was the first in what he used to call a \"trilogy of trilogies.\" Sanderson planned to publish multiple trilogies all set on the fictional planet Scadrial but in different eras: the second trilogy was to be set in an urban setting, featuring modern technology, and the third trilogy was to be a science fiction series, set in the far future. However, this structure changed with the release of The Alloy of Law, which began a new series set between the first trilogy and the planned second trilogy. After some confusion, Sanderson decided to refer to the overall series in terms of four eras, with Era One being the first trilogy, Era Two being the four books starting with The Alloy of Law, and Eras Three and Four being the other planned trilogies.\n",
      "\n",
      "\n",
      "== Setting ==\n",
      "The series primarily takes place in a region on the planet of Scadrial. The events of Era One primarily take place in Classical Scadrial, specifically within the Final Empire, while Era Two and beyond take place in Post-Catacendre Scadrial.\n",
      "\n",
      "\n",
      "=== Prehistory ===\n",
      "The history of Scadrial started with Preservation and Ruin, two opposing gods who were Shards of Adonalsium, therefore fragments of the power of creation. Preservation's nature made him want to witness things that never ended, remaining unchanging and constant throughout infinity, whereas Ruin was d\n"
     ]
    }
   ],
   "source": [
    "print(documents[0].page_content)"
   ]
  },
  {
   "cell_type": "code",
   "execution_count": 44,
   "id": "8f22bf25-ece3-4907-affb-c4bd78407a9a",
   "metadata": {},
   "outputs": [
    {
     "name": "stdout",
     "output_type": "stream",
     "text": [
      "Mistborn is a series of epic fantasy novels written by Brandon Sanderson and published by Tor Books.\n",
      "The first trilogy consists of The Final Empire, The Well of Ascension, and The Hero of Ages, published between 2006 and 2008.\n",
      "A second series, The Alloy of Law, Shadows of Self, The Bands of Mourning, and The Lost Metal, was released between 2011 and 2022.\n",
      "Sanderson also released a novella in 2016, Mistborn: Secret History.\n",
      "The first Mistborn trilogy follows a secret group of Allomancers trying to overthrow a dystopian empire.\n",
      "The second series is set 300 years after the first trilogy and follows Waxillium Ladrian investigating kidnappings and robberies.\n",
      "The third series will be set in the early computer age with 1980s technology.\n",
      "The fourth series is planned to be a space-opera.\n",
      "Sanderson's first idea for Mistborn was to set a story in a world where the \"dark lord\" triumphed and the \"prophesied hero\" failed.\n",
      "His second idea was to tell a heist story in a fantasy setting.\n",
      "The idea for the titular mist came to him while driving through mist in Idaho.\n",
      "Sanderson originally developed feruchemy and allomancy for separate stories before combining them in Mistborn.\n",
      "Sanderson began work on Mistborn: The Final Empire while trying to get his earlier novel Elantris published.\n",
      "Sanderson planned to publish multiple trilogies set on the fictional planet Scadrial but in different eras.\n",
      "The series primarily takes place in Classical Scadrial during Era One and Post-Catacendre Scadrial in Era Two and beyond.\n",
      "The history of Scadrial started with the opposing gods Preservation and Ruin, who were Shards of Adonalsium.\n"
     ]
    }
   ],
   "source": [
    "print(resp['output'])"
   ]
  },
  {
   "cell_type": "code",
   "execution_count": 52,
   "id": "f490a45a-b3f9-42e0-bc05-95701c09d6c8",
   "metadata": {},
   "outputs": [],
   "source": [
    "# Expand\n",
    "import json\n",
    "def load_data(file):\n",
    "    with open(file,'r',encoding='utf-8') as f:\n",
    "        data=f.read()\n",
    "    return data\n",
    "\n",
    "def save_data(file, data):\n",
    "    with open (file, \"w\", encoding=\"utf-8\") as f:\n",
    "        f.write(data)\n",
    "        \n",
    "def load_data_json(file):\n",
    "    with open(file,'r',encoding='utf-8') as f:\n",
    "        data = json.load(f)\n",
    "    return data\n",
    "\n",
    "def save_data_json(file, data):\n",
    "    with open (file, \"w\", encoding=\"utf-8\") as f:\n",
    "        json.dump(data, f, indent=4)\n",
    "\n"
   ]
  },
  {
   "cell_type": "code",
   "execution_count": 66,
   "id": "e682f137-b0c1-4051-af08-c97cf92ba844",
   "metadata": {},
   "outputs": [],
   "source": [
    "def doc_todict(doc: Document, context='')-> dict:\n",
    "    if context is not None and context.strip() != '':\n",
    "        doc.metadata['context'] = context\n",
    "        \n",
    "    r = {}\n",
    "    r['page_content'] = doc.page_content\n",
    "    r['metadata'] = doc.metadata\n",
    "\n",
    "    \n",
    "    return r \n",
    "\n",
    "def dict_todoc(data: dict)-> Document:\n",
    "    move = ['summary', 'cleaned']\n",
    "\n",
    "    for item in move:\n",
    "        if item in data:\n",
    "            data['meta'][item] = data[item]\n",
    "    \n",
    "    doc = Document(page_content=data['page_content'], metadata=data['meta'])"
   ]
  },
  {
   "cell_type": "code",
   "execution_count": 67,
   "id": "2596e9c8-cf0b-49f5-8cc6-30aef07abc6c",
   "metadata": {},
   "outputs": [
    {
     "name": "stdout",
     "output_type": "stream",
     "text": [
      "Proccessed file: https://en.wikipedia.org/wiki/Mistborn\n",
      "Proccessed file: https://en.wikipedia.org/wiki/Mistborn:_The_Final_Empire\n",
      "Proccessed file: https://en.wikipedia.org/wiki/Mistborn:_The_Well_of_Ascension\n",
      "Proccessed file: https://en.wikipedia.org/wiki/Mistborn:_The_Hero_of_Ages\n",
      "Proccessed file: https://en.wikipedia.org/wiki/Mistborn:_The_Alloy_of_Law\n",
      "Proccessed file: https://en.wikipedia.org/wiki/Mistborn:_Secret_History\n",
      "Proccessed file: https://en.wikipedia.org/wiki/Mistborn:_The_Bands_of_Mourning\n",
      "Proccessed file: https://en.wikipedia.org/wiki/Mistborn:_Shadows_of_Self\n",
      "Proccessed file: https://en.wikipedia.org/wiki/Mistborn:_The_Lost_Metal\n",
      "Proccessed file: https://en.wikipedia.org/wiki/Mistborn_Adventure_Game\n",
      "Proccessed file: https://en.wikipedia.org/wiki/Brandon_Sanderson\n",
      "Proccessed file: https://en.wikipedia.org/wiki/Michael_Kramer_(narrator)\n",
      "Proccessed file: https://en.wikipedia.org/wiki/Arcanum_Unbounded:_The_Cosmere_Collection\n",
      "Proccessed file: https://en.wikipedia.org/wiki/Brandon_Sanderson_bibliography\n",
      "Proccessed file: https://en.wikipedia.org/wiki/The_Stormlight_Archive\n",
      "Proccessed file: https://en.wikipedia.org/wiki/Robert_Jordan\n",
      "Proccessed file: https://en.wikipedia.org/wiki/Hard_fantasy\n",
      "Proccessed file: https://en.wikipedia.org/wiki/Fantasy\n",
      "Proccessed file: https://en.wikipedia.org/wiki/Elantris\n",
      "Proccessed file: https://en.wikipedia.org/wiki/Trevor_May\n",
      "Proccessed file: https://en.wikipedia.org/wiki/Epigraph_(literature)\n",
      "Proccessed file: https://en.wikipedia.org/wiki/The_Way_of_Kings\n",
      "Proccessed file: https://en.wikipedia.org/wiki/Caper_story\n",
      "Proccessed file: https://en.wikipedia.org/wiki/Zane\n",
      "Proccessed file: https://en.wikipedia.org/wiki/List_of_unproduced_DreamWorks_Animation_projects\n"
     ]
    }
   ],
   "source": [
    "all_docs = []\n",
    "for doc in documents:\n",
    "    #cleaned = chain.invoke(doc.page_content)\n",
    "    #doc.metadata['cleaned'] = cleaned['output']\n",
    "\n",
    "    d = doc_todict(doc,context='Mistborn')\n",
    "    all_docs.append(d)\n",
    "    print(f\"Proccessed file: {doc.metadata['source']}\")    \n"
   ]
  },
  {
   "cell_type": "code",
   "execution_count": 68,
   "id": "d38ad4b9-66e9-4792-8889-3bb026c0bed9",
   "metadata": {},
   "outputs": [],
   "source": [
    "# Write to file\n",
    "file = 'mistborn_process.json'\n",
    "save_data_json(data=all_docs, file=file)"
   ]
  },
  {
   "cell_type": "code",
   "execution_count": 69,
   "id": "b1491f41-ec20-47c4-bb13-3e2ca9da676e",
   "metadata": {},
   "outputs": [],
   "source": [
    "d0 = all_docs[0]"
   ]
  },
  {
   "cell_type": "code",
   "execution_count": 71,
   "id": "3061c9a3-7797-4363-9622-378703a9a314",
   "metadata": {},
   "outputs": [
    {
     "name": "stdout",
     "output_type": "stream",
     "text": [
      "Mistborn is a series of epic fantasy novels written by Brandon Sanderson and published by Tor Books.\n",
      "The first trilogy consists of The Final Empire, The Well of Ascension, and The Hero of Ages, published between 2006 and 2008.\n",
      "A second series, The Alloy of Law, Shadows of Self, The Bands of Mourning, and The Lost Metal, was released between 2011 and 2022.\n",
      "Sanderson also released a novella in 2016, Mistborn: Secret History.\n",
      "The first Mistborn trilogy follows a secret group of Allomancers trying to overthrow a dystopian empire.\n",
      "The second series is set 300 years after the first trilogy and follows Waxillium Ladrian investigating kidnappings and robberies.\n",
      "The third series will be set in the early computer age with 1980s technology.\n",
      "The fourth series is planned to be a space-opera.\n",
      "Sanderson's first idea for Mistborn was to set a story in a world where the \"dark lord\" triumphed and the \"prophesied hero\" failed.\n",
      "His second idea was to tell a heist story in a fantasy setting.\n",
      "The idea for the titular mist came to him while driving through mist in Idaho.\n",
      "Sanderson originally developed feruchemy and allomancy for separate stories before combining them in Mistborn.\n",
      "Sanderson began work on Mistborn: The Final Empire while trying to get his earlier novel Elantris published.\n",
      "Sanderson planned to publish multiple trilogies set on the fictional planet Scadrial but in different eras.\n",
      "The series primarily takes place in Classical Scadrial during Era One and in Post-Catacendre Scadrial during Era Two and beyond.\n",
      "The history of Scadrial started with the opposing gods Preservation and Ruin, who were Shards of Adonalsium.\n"
     ]
    }
   ],
   "source": [
    "print(d0['metadata']['cleaned'])"
   ]
  },
  {
   "cell_type": "code",
   "execution_count": 73,
   "id": "ceb915a7-6b15-4dc1-8d4b-c8a129eed0fa",
   "metadata": {},
   "outputs": [],
   "source": [
    "# Triplets\n",
    "\n",
    "# !pip install textacy\n",
    "\n",
    "import spacy\n",
    "import textacy"
   ]
  },
  {
   "cell_type": "code",
   "execution_count": 74,
   "id": "cb59c9a7-0767-48ff-9836-3006cc5fa283",
   "metadata": {},
   "outputs": [
    {
     "name": "stderr",
     "output_type": "stream",
     "text": [
      "/opt/conda/envs/spacy1/lib/python3.9/site-packages/spacy/util.py:910: UserWarning: [W095] Model 'en_core_web_sm' (3.1.0) was trained with spaCy v3.1.0 and may not be 100% compatible with the current version (3.7.4). If you see errors or degraded performance, download a newer compatible model or retrain your custom model with the current spaCy version. For more details and available updates, run: python -m spacy validate\n",
      "  warnings.warn(warn_msg)\n",
      "[nltk_data] Downloading package omw-1.4 to /home/jovyan/nltk_data...\n",
      "[nltk_data]   Package omw-1.4 is already up-to-date!\n",
      "[nltk_data] Downloading package omw-1.4 to /home/jovyan/nltk_data...\n",
      "[nltk_data]   Package omw-1.4 is already up-to-date!\n"
     ]
    }
   ],
   "source": [
    "text = d0['metadata']['cleaned'].replace(\"\\n\", \" \")\n",
    "nlp = spacy.load('en_core_web_sm')\n",
    "sdoc = nlp(text)"
   ]
  },
  {
   "cell_type": "code",
   "execution_count": 77,
   "id": "eb68359e-b8a8-4f65-917a-fa79606b1ff6",
   "metadata": {},
   "outputs": [
    {
     "name": "stdout",
     "output_type": "stream",
     "text": [
      " - SVOTriple(subject=[Sanderson], verb=[released], object=[novella])\n",
      " - SVOTriple(subject=[Mistborn, trilogy], verb=[follows], object=[group])\n",
      " - SVOTriple(subject=[series], verb=[is, set], object=[Waxillium, Ladrian])\n",
      " - SVOTriple(subject=[series], verb=[follows], object=[Waxillium, Ladrian])\n",
      " - SVOTriple(subject=[series], verb=[is, planned], object=[to, be, a, space, -, opera])\n",
      " - SVOTriple(subject=[Sanderson], verb=[developed], object=[feruchemy, allomancy])\n",
      " - SVOTriple(subject=[Sanderson], verb=[began], object=[work])\n",
      " - SVOTriple(subject=[Sanderson], verb=[planned], object=[to, publish, multiple, trilogies, set, on, the, fictional, planet, Scadrial, but, in, different, eras])\n",
      " - SVOTriple(subject=[series], verb=[takes], object=[place])\n"
     ]
    }
   ],
   "source": [
    "triples = list(textacy.extract.subject_verb_object_triples(sdoc))\n",
    "for t in triples:\n",
    "    print(f\" - {t}\")"
   ]
  },
  {
   "cell_type": "code",
   "execution_count": 96,
   "id": "f4141d4a-a7a5-4dc9-9100-a6135e18f46f",
   "metadata": {},
   "outputs": [],
   "source": [
    "def get_triplet_chain(llm):\n",
    "    human_template = \"\"\"\n",
    "    For the given input and context below in triple backticks, split each sentence into triplets.\n",
    "    \n",
    "    \n",
    "    ```{input}```\n",
    "\n",
    "    Context:\n",
    "    **Mistborn book series by Brandon Sanderson**\n",
    "\n",
    "    Format Instructions: \n",
    "    Each triplet should be on a new line. Each part of teh triplet should be separated by a pipe `|`.\n",
    "    The parts of the triplet includes the Subject of the sentence like a name, the verb or action with at most 2 words, and finally the object being targetted.\n",
    "    For context all lines are from a single document and can be referenced if needed. \n",
    "    Perform conference resolution where possible e.g. With the context of \"Lord of The Rings\", the entity \"The trilogy\" can be phrased as \"Lord of The Rings trilogy\".\n",
    "    Use full entity names where possible e.g. \"Brandon Sanderson\" instead of \"Sanderson\".\n",
    "    \n",
    "    \"\"\"\n",
    "\n",
    "    # Shot Prompt\n",
    "    sample_input_1=\"Mistborn is a series of epic fantasy novels written by Brandon Sanderson and published by Tor Books. The first trilogy consists of The Final Empire, The Well of Ascension, and The Hero of Ages, published between 2006 and 2008.\"\n",
    "    sample_output_1 = \"Sample triplets = Mistborn Series|written by|Brandon Sanderson \\n Mistborn Series | has book | The Final Empire \\n Mistborn Series | has book | The Hero of Ages \\n Mistborn Series | has book | The Hero of Ages \\n The Hero of Ages \\n The Final Empire | published between | 2006 and 2008\"\n",
    "    sample_human_prompt_1 = HumanMessagePromptTemplate.from_template(sample_input_1)\n",
    "    sample_ai_output_1 = AIMessagePromptTemplate.from_template(sample_output_1)\n",
    "\n",
    "    # \n",
    "    system_prompt = SystemMessagePromptTemplate.from_template(get_system_template())\n",
    "    human_prompt = HumanMessagePromptTemplate.from_template(human_template)\n",
    "    \n",
    "    chat_prompt = ChatPromptTemplate.from_messages([system_prompt, sample_human_prompt_1, sample_ai_output_1, human_prompt])\n",
    "    chain = LLMChain(llm=llm, prompt=chat_prompt, verbose=True)\n",
    "    \n",
    "    return SimpleSequentialChain(chains=[chain])"
   ]
  },
  {
   "cell_type": "code",
   "execution_count": 97,
   "id": "3c0acca4-e9a8-4b5c-8d5f-09e9e9006bda",
   "metadata": {},
   "outputs": [],
   "source": [
    "tchain = get_triplet_chain(llm)"
   ]
  },
  {
   "cell_type": "code",
   "execution_count": 98,
   "id": "d494de1e-e4e3-47de-a5c7-8488c2e48a99",
   "metadata": {},
   "outputs": [
    {
     "name": "stdout",
     "output_type": "stream",
     "text": [
      "\n",
      "\n",
      "\u001b[1m> Entering new LLMChain chain...\u001b[0m\n",
      "Prompt after formatting:\n",
      "\u001b[32;1m\u001b[1;3mSystem: \n",
      "    You are a top-tier algorithm designed for extracting information in structured formats to build a knowledge graph. Your task is to summarize and clean data as cleanly and consisely as possible. \n",
      "    The aim is to achieve simplicity and clarity in the knowledge graph, making it accessible for a vast audience.\n",
      "    \n",
      "    ## Handling Numerical Data and Dates\n",
      "    - Numerical data, like age or other related information, should be incorporated as attributes or properties of the respective nodes.\n",
      "    - **Quotation Marks**: Never use escaped single or double quotes within property values.\n",
      "    \n",
      "    ## Coreference Resolution\n",
      "    - **Maintain Entity Consistency**: When extracting entities, it's vital to ensure consistency.\n",
      "    If an entity, such as \"John Doe\", is mentioned multiple times in the text but is referred to by different names or pronouns (e.g., \"Joe\", \"he\"), \n",
      "    always use the most complete identifier for that entity throughout the knowledge graph. In this example, use \"John Doe\" as the entity ID.  \n",
      "    Remember, the knowledge sentences should be coherent and easily understandable, so maintaining consistency in entity references is crucial. \n",
      "    \n",
      "Human: Mistborn is a series of epic fantasy novels written by Brandon Sanderson and published by Tor Books. The first trilogy consists of The Final Empire, The Well of Ascension, and The Hero of Ages, published between 2006 and 2008.\n",
      "AI: Sample triplets = Mistborn Series|written by|Brandon Sanderson \n",
      " Mistborn Series | has book | The Final Empire \n",
      " Mistborn Series | has book | The Hero of Ages \n",
      " Mistborn Series | has book | The Hero of Ages \n",
      " The Hero of Ages \n",
      " The Final Empire | published between | 2006 and 2008\n",
      "Human: \n",
      "    For the given input and context below in triple backticks, split each sentence into triplets.\n",
      "    \n",
      "    \n",
      "    ```Mistborn is a series of epic fantasy novels written by Brandon Sanderson and published by Tor Books. The first trilogy consists of The Final Empire, The Well of Ascension, and The Hero of Ages, published between 2006 and 2008. A second series, The Alloy of Law, Shadows of Self, The Bands of Mourning, and The Lost Metal, was released between 2011 and 2022. Sanderson also released a novella in 2016, Mistborn: Secret History. The first Mistborn trilogy follows a secret group of Allomancers trying to overthrow a dystopian empire. The second series is set 300 years after the first trilogy and follows Waxillium Ladrian investigating kidnappings and robberies. The third series will be set in the early computer age with 1980s technology. The fourth series is planned to be a space-opera. Sanderson's first idea for Mistborn was to set a story in a world where the \"dark lord\" triumphed and the \"prophesied hero\" failed. His second idea was to tell a heist story in a fantasy setting. The idea for the titular mist came to him while driving through mist in Idaho. Sanderson originally developed feruchemy and allomancy for separate stories before combining them in Mistborn. Sanderson began work on Mistborn: The Final Empire while trying to get his earlier novel Elantris published. Sanderson planned to publish multiple trilogies set on the fictional planet Scadrial but in different eras. The series primarily takes place in Classical Scadrial during Era One and in Post-Catacendre Scadrial during Era Two and beyond. The history of Scadrial started with the opposing gods Preservation and Ruin, who were Shards of Adonalsium.```\n",
      "\n",
      "    Context:\n",
      "    **Mistborn book series by Brandon Sanderson**\n",
      "\n",
      "    Format Instructions: \n",
      "    Each triplet should be on a new line. Each part of teh triplet should be separated by a pipe `|`.\n",
      "    The parts of the triplet includes the Subject of the sentence like a name, the verb or action with at most 2 words, and finally the object being targetted.\n",
      "    For context all lines are from a single document and can be referenced if needed. \n",
      "    Perform conference resolution where possible e.g. With the context of \"Lord of The Rings\", the entity \"The trilogy\" can be phrased as \"Lord of The Rings trilogy\".\n",
      "    Use full entity names where possible e.g. \"Brandon Sanderson\" instead of \"Sanderson\".\n",
      "    \u001b[0m\n",
      "\n",
      "\u001b[1m> Finished chain.\u001b[0m\n"
     ]
    }
   ],
   "source": [
    "ts = tchain.invoke(text)"
   ]
  },
  {
   "cell_type": "code",
   "execution_count": 99,
   "id": "b0fce3fc-7cf5-4d71-b92e-9ebb4cb93c19",
   "metadata": {},
   "outputs": [
    {
     "name": "stdout",
     "output_type": "stream",
     "text": [
      "Mistborn | is a series of | epic fantasy novels\n",
      "Mistborn | written by | Brandon Sanderson\n",
      "Mistborn | published by | Tor Books\n",
      "The first trilogy | consists of | The Final Empire, The Well of Ascension, and The Hero of Ages\n",
      "The first trilogy | published between | 2006 and 2008\n",
      "A second series | released between | 2011 and 2022\n",
      "A second series | consists of | The Alloy of Law, Shadows of Self, The Bands of Mourning, and The Lost Metal\n",
      "Brandon Sanderson | released | a novella in 2016\n",
      "The novella | titled | Mistborn: Secret History\n",
      "The first Mistborn trilogy | follows | a secret group of Allomancers trying to overthrow a dystopian empire\n",
      "The second series | set | 300 years after the first trilogy\n",
      "The second series | follows | Waxillium Ladrian investigating kidnappings and robberies\n",
      "The third series | will be set | in the early computer age with 1980s technology\n",
      "The fourth series | is planned to be | a space-opera\n",
      "Brandon Sanderson | had the idea for | Mistborn as a world where the \"dark lord\" triumphed and the \"prophesied hero\" failed\n",
      "Brandon Sanderson | had the idea for | Mistborn as a heist story in a fantasy setting\n",
      "The idea for the titular mist | came to | Brandon Sanderson while driving through mist in Idaho\n",
      "Brandon Sanderson | originally developed | feruchemy and allomancy for separate stories\n",
      "Brandon Sanderson | combined | feruchemy and allomancy in Mistborn\n",
      "Brandon Sanderson | began work on | Mistborn: The Final Empire while trying to get his earlier novel Elantris published\n",
      "Brandon Sanderson | planned to publish | multiple trilogies set on the fictional planet Scadrial but in different eras\n",
      "The series | primarily takes place in | Classical Scadrial during Era One\n",
      "The series | also takes place in | Post-Catacendre Scadrial during Era Two and beyond\n",
      "The history of Scadrial | started with | the opposing gods Preservation and Ruin\n",
      "Preservation and Ruin | were | Shards of Adonalsium\n"
     ]
    }
   ],
   "source": [
    "print(ts['output'])"
   ]
  },
  {
   "cell_type": "code",
   "execution_count": null,
   "id": "a03a05bf-8696-4f16-ac9c-21ac08026fa2",
   "metadata": {},
   "outputs": [],
   "source": []
  }
 ],
 "metadata": {
  "kernelspec": {
   "display_name": "spacy1",
   "language": "python",
   "name": "spacy1"
  },
  "language_info": {
   "codemirror_mode": {
    "name": "ipython",
    "version": 3
   },
   "file_extension": ".py",
   "mimetype": "text/x-python",
   "name": "python",
   "nbconvert_exporter": "python",
   "pygments_lexer": "ipython3",
   "version": "3.9.18"
  }
 },
 "nbformat": 4,
 "nbformat_minor": 5
}
