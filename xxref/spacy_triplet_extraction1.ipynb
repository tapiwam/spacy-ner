{
 "cells": [
  {
   "cell_type": "code",
   "execution_count": 1,
   "id": "1b0e8581-1fd1-4500-9c94-b33a6906c3d0",
   "metadata": {},
   "outputs": [],
   "source": [
    "#!pip install networkx\n",
    "#!pip install textacy"
   ]
  },
  {
   "cell_type": "code",
   "execution_count": 2,
   "id": "9354d2f1-c40a-4eaa-a32e-fb2e7e5ab1c9",
   "metadata": {},
   "outputs": [
    {
     "name": "stderr",
     "output_type": "stream",
     "text": [
      "/opt/conda/envs/spacy2/lib/python3.10/site-packages/tqdm/auto.py:22: TqdmWarning: IProgress not found. Please update jupyter and ipywidgets. See https://ipywidgets.readthedocs.io/en/stable/user_install.html\n",
      "  from .autonotebook import tqdm as notebook_tqdm\n"
     ]
    }
   ],
   "source": [
    "import spacy\n",
    "import textacy\n",
    "import matplotlib.pylab as plt\n",
    "import networkx as nx"
   ]
  },
  {
   "cell_type": "code",
   "execution_count": 3,
   "id": "4c54f580-2177-462e-b929-c086b4365fc4",
   "metadata": {},
   "outputs": [
    {
     "name": "stderr",
     "output_type": "stream",
     "text": [
      "[nltk_data] Downloading package omw-1.4 to /home/jovyan/nltk_data...\n",
      "[nltk_data]   Package omw-1.4 is already up-to-date!\n",
      "[nltk_data] Downloading package omw-1.4 to /home/jovyan/nltk_data...\n",
      "[nltk_data]   Package omw-1.4 is already up-to-date!\n"
     ]
    }
   ],
   "source": [
    "# Load spacy model\n",
    "nlp = spacy.load('en_core_web_sm')\n",
    "# Plain text\n",
    "text = \"I am going to extract SVO\"\n",
    "# Process plain text with spacy\n",
    "doc = nlp(text)"
   ]
  },
  {
   "cell_type": "code",
   "execution_count": 4,
   "id": "77fe0217-5a82-4d7e-8396-5eed4119d5fe",
   "metadata": {},
   "outputs": [
    {
     "name": "stdout",
     "output_type": "stream",
     "text": [
      "[SVOTriple(subject=[I], verb=[am, going], object=[to, extract, SVO])]\n"
     ]
    }
   ],
   "source": [
    "# Extract SVO list from spacy object\n",
    "triples = list(textacy.extract.subject_verb_object_triples(doc))\n",
    "print(triples)\n",
    "# [SVOTriple(subject=[I], verb=[am, going], object=[to, extract, SVO])]"
   ]
  },
  {
   "cell_type": "code",
   "execution_count": 5,
   "id": "ca3a9271-4821-4620-9120-f0ac1a19db66",
   "metadata": {},
   "outputs": [],
   "source": [
    "from crosslingual_coreference import Predictor"
   ]
  },
  {
   "cell_type": "code",
   "execution_count": 6,
   "id": "c4cc7ff5-5a7b-4212-b277-5561508536bd",
   "metadata": {},
   "outputs": [
    {
     "name": "stderr",
     "output_type": "stream",
     "text": [
      "Some weights of the model checkpoint at nreimers/mMiniLMv2-L12-H384-distilled-from-XLMR-Large were not used when initializing XLMRobertaModel: ['lm_head.layer_norm.bias', 'lm_head.bias', 'lm_head.dense.weight', 'lm_head.layer_norm.weight', 'lm_head.dense.bias']\n",
      "- This IS expected if you are initializing XLMRobertaModel from the checkpoint of a model trained on another task or with another architecture (e.g. initializing a BertForSequenceClassification model from a BertForPreTraining model).\n",
      "- This IS NOT expected if you are initializing XLMRobertaModel from the checkpoint of a model that you expect to be exactly identical (initializing a BertForSequenceClassification model from a BertForSequenceClassification model).\n",
      "Some weights of XLMRobertaModel were not initialized from the model checkpoint at nreimers/mMiniLMv2-L12-H384-distilled-from-XLMR-Large and are newly initialized: ['roberta.pooler.dense.weight', 'roberta.pooler.dense.bias']\n",
      "You should probably TRAIN this model on a down-stream task to be able to use it for predictions and inference.\n"
     ]
    },
    {
     "name": "stdout",
     "output_type": "stream",
     "text": [
      "Do not forget about Momofuku Ando! Momofuku Ando created instant noodles in Osaka. At Osaka, Nissin was founded. Many students survived by eating instant noodles, but Many students don't even know Nissin.\n",
      "Do not forget about Momofuku Ando! Momofuku Ando created instant noodles in Osaka. At Osaka, Nissin was founded. Many students survived by eating instant noodles, but Many students don't even know Nissin.\n"
     ]
    }
   ],
   "source": [
    "text = (\n",
    "    \"Do not forget about Momofuku Ando! He created instant noodles in Osaka. At\"\n",
    "    \" that location, Nissin was founded. Many students survived by eating these\"\n",
    "    \" noodles, but they don't even know him.\"\n",
    ")\n",
    "\n",
    "# choose minilm for speed/memory and info_xlm for accuracy\n",
    "predictor = Predictor(\n",
    "    language=\"en_core_web_sm\", device=-1, model_name=\"minilm\"\n",
    ")\n",
    "\n",
    "print(predictor.predict(text)[\"resolved_text\"])\n",
    "print(predictor.pipe([text])[0][\"resolved_text\"])"
   ]
  },
  {
   "cell_type": "code",
   "execution_count": 7,
   "id": "b34b47a1-fae4-414e-9648-ab177ebdbc47",
   "metadata": {},
   "outputs": [],
   "source": [
    "# Complete Example"
   ]
  },
  {
   "cell_type": "code",
   "execution_count": 8,
   "id": "236e2203-7c90-4a25-a310-4e3c04b4e5f6",
   "metadata": {},
   "outputs": [
    {
     "data": {
      "text/plain": [
       "<crosslingual_coreference.CrossLingualPredictorSpacy.CrossLingualPredictorSpacy at 0x7f1f981bc7c0>"
      ]
     },
     "execution_count": 8,
     "metadata": {},
     "output_type": "execute_result"
    }
   ],
   "source": [
    "import spacy\n",
    "\n",
    "text = (\n",
    "    \"Do not forget about Momofuku Ando! He created instant noodles in Osaka. At\"\n",
    "    \" that location, Nissin was founded. Many students survived by eating these\"\n",
    "    \" noodles, but they don't even know him.\"\n",
    ")\n",
    "\n",
    "\n",
    "nlp = spacy.load(\"en_core_web_sm\")\n",
    "nlp.add_pipe(\n",
    "    \"xx_coref\", config={\"chunk_size\": 2500, \"chunk_overlap\": 2, \"device\": 1}\n",
    ")\n",
    "\n"
   ]
  },
  {
   "cell_type": "code",
   "execution_count": 9,
   "id": "c8bb9bf5-4647-4c05-b7b5-693c277f7736",
   "metadata": {},
   "outputs": [
    {
     "name": "stdout",
     "output_type": "stream",
     "text": [
      "<class 'str'>\n",
      "Do not forget about Momofuku Ando! Momofuku Ando created instant noodles in Osaka. At Osaka, Nissin was founded. Many students survived by eating instant noodles, but Many students don't even know Nissin.\n"
     ]
    }
   ],
   "source": [
    "doc = nlp(text)\n",
    "update_text = doc._.resolved_text\n",
    "print(type(update_text))\n",
    "print(update_text)\n"
   ]
  },
  {
   "cell_type": "code",
   "execution_count": 10,
   "id": "1a92e0af-d726-4f4b-8d36-6466b9646859",
   "metadata": {},
   "outputs": [
    {
     "name": "stdout",
     "output_type": "stream",
     "text": [
      "[SVOTriple(subject=[Momofuku, Ando], verb=[created], object=[noodles]), SVOTriple(subject=[students, students], verb=[do, n't, know], object=[Nissin])]\n"
     ]
    }
   ],
   "source": [
    "doc1 = nlp(update_text)\n",
    "# Extract SVO list from spacy object\n",
    "triples = list(textacy.extract.subject_verb_object_triples(doc1))\n",
    "print(triples)"
   ]
  },
  {
   "cell_type": "code",
   "execution_count": 13,
   "id": "a3273229-1699-4ae8-a860-8b69d026574d",
   "metadata": {},
   "outputs": [
    {
     "data": {
      "text/plain": [
       "(Momofuku Ando, Momofuku Ando, Osaka, Osaka, Nissin, Nissin)"
      ]
     },
     "execution_count": 13,
     "metadata": {},
     "output_type": "execute_result"
    }
   ],
   "source": [
    "doc1.ents"
   ]
  },
  {
   "cell_type": "code",
   "execution_count": 18,
   "id": "75eca480-b968-4f5d-9d7d-5e541802d56f",
   "metadata": {},
   "outputs": [],
   "source": [
    "def find_verbs(doc):\n",
    "    l = []\n",
    "    for token in doc:\n",
    "        if token.pos_ == 'VERB':\n",
    "            l.append(token)\n",
    "    return l"
   ]
  },
  {
   "cell_type": "code",
   "execution_count": 30,
   "id": "383e148a-63d3-4d1e-956c-92ccb2814cf2",
   "metadata": {},
   "outputs": [
    {
     "name": "stdout",
     "output_type": "stream",
     "text": [
      "\n",
      ">> Reviewing sentence: Do not forget about Momofuku Ando!\n",
      " - Verbs in sentence: [forget]\n",
      " - Enities in sentence: \n",
      "text=Momofuku Ando, label=PERSON\n",
      " - Breakdown sentence: \n",
      "text=Do, lemma=do, pos=AUX, tag=VB, dep=aux, shape=Xx, alpha=True, stop=True\n",
      "text=not, lemma=not, pos=PART, tag=RB, dep=neg, shape=xxx, alpha=True, stop=True\n",
      "text=forget, lemma=forget, pos=VERB, tag=VB, dep=ROOT, shape=xxxx, alpha=True, stop=False\n",
      "text=about, lemma=about, pos=ADP, tag=IN, dep=prep, shape=xxxx, alpha=True, stop=True\n",
      "text=Momofuku, lemma=Momofuku, pos=PROPN, tag=NNP, dep=compound, shape=Xxxxx, alpha=True, stop=False\n",
      "text=Ando, lemma=Ando, pos=PROPN, tag=NNP, dep=pobj, shape=Xxxx, alpha=True, stop=False\n",
      "text=!, lemma=!, pos=PUNCT, tag=., dep=punct, shape=!, alpha=False, stop=False\n",
      "\n",
      ">> Reviewing sentence: Momofuku Ando created instant noodles in Osaka.\n",
      " - SVOTriple(subject=[Momofuku, Ando], verb=[created], object=[noodles])\n",
      " - Verbs in sentence: [created]\n",
      " - Enities in sentence: \n",
      "text=Momofuku Ando, label=PERSON\n",
      "text=Osaka, label=GPE\n",
      " - Breakdown sentence: \n",
      "text=Momofuku, lemma=Momofuku, pos=PROPN, tag=NNP, dep=compound, shape=Xxxxx, alpha=True, stop=False\n",
      "text=Ando, lemma=Ando, pos=PROPN, tag=NNP, dep=nsubj, shape=Xxxx, alpha=True, stop=False\n",
      "text=created, lemma=create, pos=VERB, tag=VBD, dep=ROOT, shape=xxxx, alpha=True, stop=False\n",
      "text=instant, lemma=instant, pos=ADJ, tag=JJ, dep=amod, shape=xxxx, alpha=True, stop=False\n",
      "text=noodles, lemma=noodle, pos=NOUN, tag=NNS, dep=dobj, shape=xxxx, alpha=True, stop=False\n",
      "text=in, lemma=in, pos=ADP, tag=IN, dep=prep, shape=xx, alpha=True, stop=True\n",
      "text=Osaka, lemma=Osaka, pos=PROPN, tag=NNP, dep=pobj, shape=Xxxxx, alpha=True, stop=False\n",
      "text=., lemma=., pos=PUNCT, tag=., dep=punct, shape=., alpha=False, stop=False\n",
      "\n",
      ">> Reviewing sentence: At Osaka, Nissin was founded.\n",
      " - Verbs in sentence: [founded]\n",
      " - Enities in sentence: \n",
      "text=Osaka, label=GPE\n",
      "text=Nissin, label=GPE\n",
      " - Breakdown sentence: \n",
      "text=At, lemma=at, pos=ADP, tag=IN, dep=prep, shape=Xx, alpha=True, stop=True\n",
      "text=Osaka, lemma=Osaka, pos=PROPN, tag=NNP, dep=pobj, shape=Xxxxx, alpha=True, stop=False\n",
      "text=,, lemma=,, pos=PUNCT, tag=,, dep=punct, shape=,, alpha=False, stop=False\n",
      "text=Nissin, lemma=Nissin, pos=PROPN, tag=NNP, dep=nsubjpass, shape=Xxxxx, alpha=True, stop=False\n",
      "text=was, lemma=be, pos=AUX, tag=VBD, dep=auxpass, shape=xxx, alpha=True, stop=True\n",
      "text=founded, lemma=found, pos=VERB, tag=VBN, dep=ROOT, shape=xxxx, alpha=True, stop=False\n",
      "text=., lemma=., pos=PUNCT, tag=., dep=punct, shape=., alpha=False, stop=False\n",
      "\n",
      ">> Reviewing sentence: Many students survived by eating instant noodles, but Many students don't even know Nissin.\n",
      " - SVOTriple(subject=[students, students], verb=[do, n't, know], object=[Nissin])\n",
      " - Verbs in sentence: [survived, eating, know]\n",
      " - Enities in sentence: \n",
      "text=Nissin, label=GPE\n",
      " - Breakdown sentence: \n",
      "text=Many, lemma=many, pos=ADJ, tag=JJ, dep=amod, shape=Xxxx, alpha=True, stop=True\n",
      "text=students, lemma=student, pos=NOUN, tag=NNS, dep=nsubj, shape=xxxx, alpha=True, stop=False\n",
      "text=survived, lemma=survive, pos=VERB, tag=VBN, dep=acl, shape=xxxx, alpha=True, stop=False\n",
      "text=by, lemma=by, pos=ADP, tag=IN, dep=agent, shape=xx, alpha=True, stop=True\n",
      "text=eating, lemma=eat, pos=VERB, tag=VBG, dep=pcomp, shape=xxxx, alpha=True, stop=False\n",
      "text=instant, lemma=instant, pos=ADJ, tag=JJ, dep=amod, shape=xxxx, alpha=True, stop=False\n",
      "text=noodles, lemma=noodle, pos=NOUN, tag=NNS, dep=dobj, shape=xxxx, alpha=True, stop=False\n",
      "text=,, lemma=,, pos=PUNCT, tag=,, dep=punct, shape=,, alpha=False, stop=False\n",
      "text=but, lemma=but, pos=CCONJ, tag=CC, dep=cc, shape=xxx, alpha=True, stop=True\n",
      "text=Many, lemma=many, pos=ADJ, tag=JJ, dep=amod, shape=Xxxx, alpha=True, stop=True\n",
      "text=students, lemma=student, pos=NOUN, tag=NNS, dep=nsubj, shape=xxxx, alpha=True, stop=False\n",
      "text=do, lemma=do, pos=AUX, tag=VBP, dep=aux, shape=xx, alpha=True, stop=True\n",
      "text=n't, lemma=n't, pos=PART, tag=RB, dep=neg, shape=x'x, alpha=False, stop=True\n",
      "text=even, lemma=even, pos=ADV, tag=RB, dep=advmod, shape=xxxx, alpha=True, stop=True\n",
      "text=know, lemma=know, pos=VERB, tag=VB, dep=ROOT, shape=xxxx, alpha=True, stop=False\n",
      "text=Nissin, lemma=Nissin, pos=PROPN, tag=NNP, dep=dobj, shape=Xxxxx, alpha=True, stop=False\n",
      "text=., lemma=., pos=PUNCT, tag=., dep=punct, shape=., alpha=False, stop=False\n"
     ]
    }
   ],
   "source": [
    "for sent in doc1.sents:\n",
    "    print(f\"\\n>> Reviewing sentence: {sent}\")\n",
    "\n",
    "    pos = [f\"text={token.text}, lemma={token.lemma_}, pos={token.pos_}, tag={token.tag_}, dep={token.dep_}, shape={token.shape_}, alpha={token.is_alpha}, stop={token.is_stop}\" for token in sent]\n",
    "    postxt = '\\n'.join(pos)\n",
    "\n",
    "    ents = [ f\"text={ent.text}, label={ent.label_}\" for ent in sent.ents]\n",
    "    entstxt = '\\n'.join(ents)\n",
    "    \n",
    "    triples = list(textacy.extract.subject_verb_object_triples(sent))\n",
    "    for t in triples:\n",
    "        print(f\" - {t}\")\n",
    "    \n",
    "    print(f\" - Verbs in sentence: {find_verbs(sent)}\")\n",
    "    print(f\" - Enities in sentence: \\n{entstxt}\")\n",
    "    print(f\" - Breakdown sentence: \\n{postxt}\")"
   ]
  },
  {
   "cell_type": "code",
   "execution_count": null,
   "id": "7f95ba7e-d655-4bc5-8203-9e537a7beba4",
   "metadata": {},
   "outputs": [],
   "source": []
  }
 ],
 "metadata": {
  "kernelspec": {
   "display_name": "spacy2",
   "language": "python",
   "name": "spacy2"
  },
  "language_info": {
   "codemirror_mode": {
    "name": "ipython",
    "version": 3
   },
   "file_extension": ".py",
   "mimetype": "text/x-python",
   "name": "python",
   "nbconvert_exporter": "python",
   "pygments_lexer": "ipython3",
   "version": "3.10.13"
  }
 },
 "nbformat": 4,
 "nbformat_minor": 5
}
