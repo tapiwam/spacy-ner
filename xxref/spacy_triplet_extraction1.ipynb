{
 "cells": [
  {
   "cell_type": "code",
   "execution_count": 1,
   "id": "1b0e8581-1fd1-4500-9c94-b33a6906c3d0",
   "metadata": {},
   "outputs": [],
   "source": [
    "#!pip install networkx\n",
    "#!pip install textacy"
   ]
  },
  {
   "cell_type": "code",
   "execution_count": 2,
   "id": "9354d2f1-c40a-4eaa-a32e-fb2e7e5ab1c9",
   "metadata": {},
   "outputs": [
    {
     "name": "stderr",
     "output_type": "stream",
     "text": [
      "/opt/conda/envs/spacy2/lib/python3.10/site-packages/tqdm/auto.py:22: TqdmWarning: IProgress not found. Please update jupyter and ipywidgets. See https://ipywidgets.readthedocs.io/en/stable/user_install.html\n",
      "  from .autonotebook import tqdm as notebook_tqdm\n"
     ]
    }
   ],
   "source": [
    "import spacy\n",
    "import textacy\n",
    "import matplotlib.pylab as plt\n",
    "import networkx as nx"
   ]
  },
  {
   "cell_type": "code",
   "execution_count": 4,
   "id": "4c54f580-2177-462e-b929-c086b4365fc4",
   "metadata": {},
   "outputs": [
    {
     "name": "stderr",
     "output_type": "stream",
     "text": [
      "[nltk_data] Downloading package omw-1.4 to /home/jovyan/nltk_data...\n",
      "[nltk_data]   Package omw-1.4 is already up-to-date!\n",
      "[nltk_data] Downloading package omw-1.4 to /home/jovyan/nltk_data...\n",
      "[nltk_data]   Package omw-1.4 is already up-to-date!\n"
     ]
    }
   ],
   "source": [
    "# Load spacy model\n",
    "nlp = spacy.load('en_core_web_sm')\n",
    "# Plain text\n",
    "text = \"I am going to extract SVO\"\n",
    "# Process plain text with spacy\n",
    "doc = nlp(text)"
   ]
  },
  {
   "cell_type": "code",
   "execution_count": 5,
   "id": "77fe0217-5a82-4d7e-8396-5eed4119d5fe",
   "metadata": {},
   "outputs": [
    {
     "name": "stdout",
     "output_type": "stream",
     "text": [
      "[SVOTriple(subject=[I], verb=[am, going], object=[to, extract, SVO])]\n"
     ]
    }
   ],
   "source": [
    "# Extract SVO list from spacy object\n",
    "triples = list(textacy.extract.subject_verb_object_triples(doc))\n",
    "print(triples)\n",
    "# [SVOTriple(subject=[I], verb=[am, going], object=[to, extract, SVO])]"
   ]
  },
  {
   "cell_type": "code",
   "execution_count": 6,
   "id": "ca3a9271-4821-4620-9120-f0ac1a19db66",
   "metadata": {},
   "outputs": [],
   "source": [
    "from crosslingual_coreference import Predictor"
   ]
  },
  {
   "cell_type": "code",
   "execution_count": 9,
   "id": "c4cc7ff5-5a7b-4212-b277-5561508536bd",
   "metadata": {},
   "outputs": [
    {
     "name": "stdout",
     "output_type": "stream",
     "text": [
      "Do not forget about Momofuku Ando! Momofuku Ando created instant noodles in Osaka. At Osaka, Nissin was founded. Many students survived by eating instant noodles, but Many students don't even know Nissin.\n",
      "Do not forget about Momofuku Ando! Momofuku Ando created instant noodles in Osaka. At Osaka, Nissin was founded. Many students survived by eating instant noodles, but Many students don't even know Nissin.\n"
     ]
    }
   ],
   "source": [
    "text = (\n",
    "    \"Do not forget about Momofuku Ando! He created instant noodles in Osaka. At\"\n",
    "    \" that location, Nissin was founded. Many students survived by eating these\"\n",
    "    \" noodles, but they don't even know him.\"\n",
    ")\n",
    "\n",
    "# choose minilm for speed/memory and info_xlm for accuracy\n",
    "predictor = Predictor(\n",
    "    language=\"en_core_web_sm\", device=-1, model_name=\"minilm\"\n",
    ")\n",
    "\n",
    "print(predictor.predict(text)[\"resolved_text\"])\n",
    "print(predictor.pipe([text])[0][\"resolved_text\"])"
   ]
  },
  {
   "cell_type": "code",
   "execution_count": null,
   "id": "b34b47a1-fae4-414e-9648-ab177ebdbc47",
   "metadata": {},
   "outputs": [],
   "source": [
    "# Complete Example"
   ]
  },
  {
   "cell_type": "code",
   "execution_count": 12,
   "id": "236e2203-7c90-4a25-a310-4e3c04b4e5f6",
   "metadata": {},
   "outputs": [
    {
     "name": "stdout",
     "output_type": "stream",
     "text": [
      "Do not forget about Momofuku Ando! Momofuku Ando created instant noodles in Osaka. At Osaka, Nissin was founded. Many students survived by eating instant noodles, but Many students don't even know Nissin.\n",
      "[SVOTriple(subject=[He], verb=[created], object=[noodles]), SVOTriple(subject=[students, they], verb=[do, n't, know], object=[him])]\n"
     ]
    }
   ],
   "source": [
    "import spacy\n",
    "\n",
    "text = (\n",
    "    \"Do not forget about Momofuku Ando! He created instant noodles in Osaka. At\"\n",
    "    \" that location, Nissin was founded. Many students survived by eating these\"\n",
    "    \" noodles, but they don't even know him.\"\n",
    ")\n",
    "\n",
    "\n",
    "nlp = spacy.load(\"en_core_web_sm\")\n",
    "nlp.add_pipe(\n",
    "    \"xx_coref\", config={\"chunk_size\": 2500, \"chunk_overlap\": 2, \"device\": 1}\n",
    ")\n",
    "\n"
   ]
  },
  {
   "cell_type": "code",
   "execution_count": 16,
   "id": "c8bb9bf5-4647-4c05-b7b5-693c277f7736",
   "metadata": {},
   "outputs": [
    {
     "name": "stdout",
     "output_type": "stream",
     "text": [
      "<class 'str'>\n",
      "Do not forget about Momofuku Ando! Momofuku Ando created instant noodles in Osaka. At Osaka, Nissin was founded. Many students survived by eating instant noodles, but Many students don't even know Nissin.\n"
     ]
    }
   ],
   "source": [
    "doc = nlp(text)\n",
    "update_text = doc._.resolved_text\n",
    "print(type(update_text))\n",
    "print(update_text)\n"
   ]
  },
  {
   "cell_type": "code",
   "execution_count": 17,
   "id": "1a92e0af-d726-4f4b-8d36-6466b9646859",
   "metadata": {},
   "outputs": [
    {
     "name": "stdout",
     "output_type": "stream",
     "text": [
      "[SVOTriple(subject=[Momofuku, Ando], verb=[created], object=[noodles]), SVOTriple(subject=[students, students], verb=[do, n't, know], object=[Nissin])]\n"
     ]
    }
   ],
   "source": [
    "doc1 = nlp(update_text)\n",
    "# Extract SVO list from spacy object\n",
    "triples = list(textacy.extract.subject_verb_object_triples(doc1))\n",
    "print(triples)"
   ]
  }
 ],
 "metadata": {
  "kernelspec": {
   "display_name": "spacy2",
   "language": "python",
   "name": "spacy2"
  },
  "language_info": {
   "codemirror_mode": {
    "name": "ipython",
    "version": 3
   },
   "file_extension": ".py",
   "mimetype": "text/x-python",
   "name": "python",
   "nbconvert_exporter": "python",
   "pygments_lexer": "ipython3",
   "version": "3.10.13"
  }
 },
 "nbformat": 4,
 "nbformat_minor": 5
}
